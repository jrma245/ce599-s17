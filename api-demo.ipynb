{
 "cells": [
  {
   "cell_type": "markdown",
   "metadata": {},
   "source": [
    "# Working with Data APIs\n",
    "\n",
    "**Sam Maurer // maurer@berkeley.edu // Oct. 3, 2016**\n",
    "\n",
    "This notebook provides a demonstration of data-access APIs that operate over the web. See README.md for setup instructions.\n",
    "\n",
    "In Part 1, we'll load and parse results from an API feed of earthquake data.  \n",
    "In Part 2, we'll add query parameters to the workflow, using the Google Maps Geolocation API as an example.  \n",
    "In Part 3, we'll use an authenticated API to query public Twitter posts. "
   ]
  },
  {
   "cell_type": "markdown",
   "metadata": {},
   "source": [
    "# Part 1: Reading from an automated data feed\n",
    "\n",
    "### USGS real-time earthquake feeds\n",
    "\n",
    "This is an API for near-real-time data about earthquakes. Data is provided in JSON format over the web. No authentication is needed, and there's no way to customize the output. Instead, the API has a separate endpoint for each permutation of the data that users might want.\n",
    "\n",
    "**API documentation:**  \n",
    "http://earthquake.usgs.gov/earthquakes/feed/v1.0/geojson.php\n",
    "\n",
    "**Sample API endpoint, for magnitude 4.5+ earthquakes in past day:**  \n",
    "http://earthquake.usgs.gov/earthquakes/feed/v1.0/summary/4.5_day.geojson  \n"
   ]
  },
  {
   "cell_type": "code",
   "execution_count": 111,
   "metadata": {
    "collapsed": true
   },
   "outputs": [],
   "source": [
    "%matplotlib inline\n",
    "\n",
    "import pandas as pd\n",
    "\n",
    "import json    # library for working with JSON-formatted text strings\n",
    "import requests  # library for accessing content from web URLs\n",
    "\n",
    "import pprint  # library for making Python data structures readable\n",
    "pp = pprint.PrettyPrinter()"
   ]
  },
  {
   "cell_type": "code",
   "execution_count": 112,
   "metadata": {
    "collapsed": false
   },
   "outputs": [
    {
     "name": "stdout",
     "output_type": "stream",
     "text": [
      "<class 'str'>\n"
     ]
    }
   ],
   "source": [
    "# download data on magnitude 2.5+ quakes from the past week\n",
    "\n",
    "endpoint_url = \"http://earthquake.usgs.gov/earthquakes/feed/v1.0/summary/2.5_week.geojson\"\n",
    "response = requests.get(endpoint_url)\n",
    "results = response.text\n",
    "\n",
    "# what is the data type of the results?\n",
    "print(type(results))"
   ]
  },
  {
   "cell_type": "code",
   "execution_count": 113,
   "metadata": {
    "collapsed": false
   },
   "outputs": [
    {
     "name": "stdout",
     "output_type": "stream",
     "text": [
      "{\"type\":\"FeatureCollection\",\"metadata\":{\"generated\":1486064257000,\"url\":\"http://earthquake.usgs.gov/earthquakes/feed/v1.0/summary/2.5_week.geojson\",\"title\":\"USGS Magnitude 2.5+ Earthquakes, Past Week\",\"status\":200,\"api\":\"1.5.4\",\"count\":224},\"features\":[{\"type\":\"Feature\",\"properties\":{\"mag\":2.5,\"place\":\"39km WSW of Nikiski, Alaska\",\"time\":1486056339547,\"updated\":1486057096264,\"tz\":-540,\"url\":\"http://earthquake.usgs.gov/earthquakes/eventpage/ak15191847\",\"detail\":\"http://earthquake.usgs.gov/earthqu\n"
     ]
    }
   ],
   "source": [
    "# print the first 500 characters to see a sample of the data\n",
    "\n",
    "print(results[:500])"
   ]
  },
  {
   "cell_type": "code",
   "execution_count": 114,
   "metadata": {
    "collapsed": false
   },
   "outputs": [
    {
     "name": "stdout",
     "output_type": "stream",
     "text": [
      "<class 'dict'>\n"
     ]
    }
   ],
   "source": [
    "# it looks like the results are a string with JSON-formatted data inside\n",
    "\n",
    "# parse the string into a Python dictionary\n",
    "data = json.loads(results)\n",
    "\n",
    "print(type(data))"
   ]
  },
  {
   "cell_type": "code",
   "execution_count": 115,
   "metadata": {
    "collapsed": false
   },
   "outputs": [
    {
     "name": "stdout",
     "output_type": "stream",
     "text": [
      "{'id': 'ak15191847', 'properties': {'magType': 'ml', 'alert': None, 'code': '15191847', 'ids': ',ak15191847,', 'net': 'ak', 'tsunami': 0, 'sources': ',ak,', 'updated': 1486057096264, 'nst': None, 'tz': -540, 'time': 1486056339547, 'cdi': None, 'status': 'automatic', 'rms': 0.64, 'place': '39km WSW of Nikiski, Alaska', 'types': ',geoserve,origin,', 'felt': None, 'type': 'earthquake', 'gap': None, 'dmin': None, 'mag': 2.5, 'detail': 'http://earthquake.usgs.gov/earthquakes/feed/v1.0/detail/ak15191847.geojson', 'url': 'http://earthquake.usgs.gov/earthquakes/eventpage/ak15191847', 'sig': 96, 'mmi': None, 'title': 'M 2.5 - 39km WSW of Nikiski, Alaska'}, 'geometry': {'coordinates': [-151.993, 60.6067, 87.5], 'type': 'Point'}, 'type': 'Feature'}\n"
     ]
    }
   ],
   "source": [
    "# print the most recent quake\n",
    "\n",
    "quakes = data['features']\n",
    "print(quakes[0])"
   ]
  },
  {
   "cell_type": "code",
   "execution_count": 116,
   "metadata": {
    "collapsed": false
   },
   "outputs": [
    {
     "name": "stdout",
     "output_type": "stream",
     "text": [
      "{'coordinates': [-151.993, 60.6067, 87.5], 'type': 'Point'}\n",
      "{'alert': None,\n",
      " 'cdi': None,\n",
      " 'code': '15191847',\n",
      " 'detail': 'http://earthquake.usgs.gov/earthquakes/feed/v1.0/detail/ak15191847.geojson',\n",
      " 'dmin': None,\n",
      " 'felt': None,\n",
      " 'gap': None,\n",
      " 'ids': ',ak15191847,',\n",
      " 'mag': 2.5,\n",
      " 'magType': 'ml',\n",
      " 'mmi': None,\n",
      " 'net': 'ak',\n",
      " 'nst': None,\n",
      " 'place': '39km WSW of Nikiski, Alaska',\n",
      " 'rms': 0.64,\n",
      " 'sig': 96,\n",
      " 'sources': ',ak,',\n",
      " 'status': 'automatic',\n",
      " 'time': 1486056339547,\n",
      " 'title': 'M 2.5 - 39km WSW of Nikiski, Alaska',\n",
      " 'tsunami': 0,\n",
      " 'type': 'earthquake',\n",
      " 'types': ',geoserve,origin,',\n",
      " 'tz': -540,\n",
      " 'updated': 1486057096264,\n",
      " 'url': 'http://earthquake.usgs.gov/earthquakes/eventpage/ak15191847'}\n"
     ]
    }
   ],
   "source": [
    "# print it more clearly\n",
    "\n",
    "pp.pprint(quakes[0]['geometry'])\n",
    "pp.pprint(quakes[0]['properties'])"
   ]
  },
  {
   "cell_type": "code",
   "execution_count": 79,
   "metadata": {
    "collapsed": false
   },
   "outputs": [
    {
     "name": "stdout",
     "output_type": "stream",
     "text": [
      "M 2.5 - 39km WSW of Nikiski, Alaska\n",
      "M 2.5 - 62km W of Anchor Point, Alaska\n",
      "M 3.6 - 20km NNW of Loiza, Puerto Rico\n",
      "M 4.9 - Kermadec Islands region\n",
      "M 2.9 - 29km SW of Redoubt Volcano, Alaska\n",
      "M 4.4 - 36km E of Farkhar, Afghanistan\n",
      "M 3.2 - 74km N of Charlotte Amalie, U.S. Virgin Islands\n",
      "M 3.9 - 85km ENE of Chirikof Island, Alaska\n",
      "M 4.9 - 183km NNE of Banjar Sidayu, Indonesia\n",
      "M 4.8 - 55km NNW of Agrihan, Northern Mariana Islands\n",
      "M 2.9 - 20km W of Perry, Oklahoma\n",
      "M 4.4 - 200km SW of L'Esperance Rock, New Zealand\n",
      "M 4.7 - 174km WSW of Kuripan, Indonesia\n",
      "M 5.2 - 47km E of Opotiki, New Zealand\n",
      "M 4.0 - 14km SSE of Chancay, Peru\n",
      "M 3.1 - 95km W of Willow, Alaska\n",
      "M 2.8 - 22km NNW of Fritz Creek, Alaska\n",
      "M 3.3 - 20km W of Perry, Oklahoma\n",
      "M 4.8 - 20km ESE of Petatlan, Mexico\n",
      "M 4.5 - 33km E of Junlian, China\n",
      "M 5.3 - 264km NNE of Fais, Micronesia\n",
      "M 4.7 - 135km SSW of Hihifo, Tonga\n",
      "M 3.6 - 4km NE of Aljubarrota, Portugal\n",
      "M 4.5 - 132km N of Lae, Papua New Guinea\n",
      "M 4.4 - 130km WSW of Kota Ternate, Indonesia\n",
      "M 2.8 - 7km NNW of Friday Harbor, Washington\n",
      "M 2.8 - 64km NW of Kalaoa, Hawaii\n",
      "M 4.3 - 60km N of Lae, Papua New Guinea\n",
      "M 2.9 - 117km WNW of Gustavus, Alaska\n",
      "M 4.9 - 44km E of Naze, Japan\n",
      "M 4.1 - 5km ENE of Sorong, Indonesia\n",
      "M 4.7 - 107km SSW of Baubau, Indonesia\n",
      "M 4.6 - 62km S of Kirakira, Solomon Islands\n",
      "M 4.4 - 299km E of Vostok, Russia\n",
      "M 4.5 - 168km W of Pangai, Tonga\n",
      "M 3.9 - 9km NW of Murray Bridge, Australia\n",
      "M 2.6 - 6km SW of Volcano, Hawaii\n",
      "M 3.3 - 79km SW of Anchor Point, Alaska\n",
      "M 4.6 - 52km SSW of Tinyahuarco, Peru\n",
      "M 4.4 - 37km W of Arauco, Chile\n",
      "M 2.9 - 110km NNE of Chignik Lake, Alaska\n",
      "M 4.6 - 20km WNW of Atuncolla, Peru\n",
      "M 4.9 - 15km ENE of Kaikoura, New Zealand\n",
      "M 5.1 - 141km NNW of Zhadong, China\n",
      "M 2.7 - 110km NNE of Chignik Lake, Alaska\n",
      "M 3.7 - 65km NW of Kalaoa, Hawaii\n",
      "M 2.8 - 96km NNW of Nikiski, Alaska\n",
      "M 2.8 - 31km SW of Hawthorne, Nevada\n",
      "M 2.6 - 63km W of Kailua-Kona, Hawaii\n",
      "M 2.7 - 6km SW of Volcano, Hawaii\n",
      "M 2.6 - 38km NE of Larsen Bay, Alaska\n",
      "M 3.5 - 87km N of Road Town, British Virgin Islands\n",
      "M 4.7 - 11km W of San Andres, Colombia\n",
      "M 4.8 - 166km SE of Sucua, Ecuador\n",
      "M 4.7 - 102km NNW of Nago, Japan\n",
      "M 2.7 - 12km NNE of Hatillo, Puerto Rico\n",
      "M 3.9 - 81km SW of Puerto Quellon, Chile\n",
      "M 2.6 - 50km N of Tierras Nuevas Poniente, Puerto Rico\n",
      "M 3.0 - 23km ENE of Mooreland, Oklahoma\n",
      "M 4.4 - 43km SSW of Ozernovskiy, Russia\n",
      "M 3.2 - 39km SSE of Manley Hot Springs, Alaska\n",
      "M 4.6 - 93km E of Ishinomaki, Japan\n",
      "M 4.3 - 27km SSW of Khorugh, Tajikistan\n",
      "M 5.3 - 172km N of Dili, East Timor\n",
      "M 5.5 - 25km S of Propicia, Ecuador\n",
      "M 4.5 - 114km NW of San Jose de Jachal, Argentina\n",
      "M 4.6 - 121km SSW of Itoman, Japan\n",
      "M 4.8 - Southwest Indian Ridge\n",
      "M 2.9 - 2km WSW of South Hutchinson, Kansas\n",
      "M 5.2 - 92km NNW of Talkeetna, Alaska\n",
      "M 4.5 - 262km SE of Lambasa, Fiji\n",
      "M 3.1 - 58km NNW of San Antonio, Puerto Rico\n",
      "M 3.2 - 34km NE of Road Town, British Virgin Islands\n",
      "M 2.7 - 21km SSW of Puebla, B.C., MX\n",
      "M 3.3 - 6km S of Ridgemark, California\n",
      "M 2.5 - 37km ENE of Fritz Creek, Alaska\n",
      "M 2.8 - 8km N of Mojave, CA\n",
      "M 3.0 - 7km S of Emajagua, Puerto Rico\n",
      "M 4.0 - 87km SSW of Port Hardy, Canada\n",
      "M 3.0 - 127km NNW of Nikiski, Alaska\n",
      "M 3.5 - 110km W of Willow, Alaska\n",
      "M 5.2 - Northern Mid-Atlantic Ridge\n",
      "M 3.1 - 52km E of Sutton-Alpine, Alaska\n",
      "M 5.9 - 33km NNE of Port-Olry, Vanuatu\n",
      "M 3.3 - 55km NNE of Road Town, British Virgin Islands\n",
      "M 3.2 - 57km SE of Boca de Yuma, Dominican Republic\n",
      "M 2.6 - 10km NE of Indio, CA\n",
      "M 2.8 - 0km ENE of Maricao, Puerto Rico\n",
      "M 4.5 - 137km WSW of Banda Aceh, Indonesia\n",
      "M 2.5 - 12km ESE of Hennessey, Oklahoma\n",
      "M 4.5 - Indian Ocean Triple Junction\n",
      "M 3.0 - 10km S of Emajagua, Puerto Rico\n",
      "M 3.3 - 5km S of New Castle, Colorado\n",
      "M 4.8 - Western Indian-Antarctic Ridge\n",
      "M 2.8 - 4km S of Medford, Oklahoma\n",
      "M 4.7 - West Chile Rise\n",
      "M 4.7 - 76km SW of San Juan del Sur, Nicaragua\n",
      "M 2.6 - 88km ESE of Maneadero, B.C., MX\n",
      "M 3.4 - 120km NNW of Charlotte Amalie, U.S. Virgin Islands\n",
      "M 5.1 - 136km SSE of Lata, Solomon Islands\n",
      "M 4.9 - 72km NNW of Wanaka, New Zealand\n",
      "M 5.2 - Northern Mid-Atlantic Ridge\n",
      "M 4.7 - 34km SW of Muara Siberut, Indonesia\n",
      "M 2.9 - 62km WSW of Redoubt Volcano, Alaska\n",
      "M 4.6 - 82km W of Santo Tomas, Peru\n",
      "M 2.5 - 12km SSE of Cushing, Oklahoma\n",
      "M 3.1 - 9km NNW of Friday Harbor, Washington\n",
      "M 3.0 - 29km SSW of Charlotte Amalie, U.S. Virgin Islands\n",
      "M 2.5 - 11km W of Chaffee, Missouri\n",
      "M 2.8 - 22km WSW of Medford, Oklahoma\n",
      "M 5.0 - 137km SSW of Kokopo, Papua New Guinea\n",
      "M 2.8 - 16km WNW of Blackwell, Oklahoma\n",
      "M 2.6 - 15km WNW of Blackwell, Oklahoma\n",
      "M 4.2 - 14km SE of Naranjal, Ecuador\n",
      "M 5.1 - 6km ENE of Libas, Philippines\n",
      "M 2.8 - 9km NNW of Friday Harbor, Washington\n",
      "M 4.6 - Kuril Islands\n",
      "M 2.5 - 132km SSE of Coldfoot, Alaska\n",
      "M 4.8 - 55km NNW of Agrihan, Northern Mariana Islands\n",
      "M 2.6 - 9km SSW of Cherokee, Oklahoma\n",
      "M 2.5 - 74km WSW of Cantwell, Alaska\n",
      "M 5.4 - Drake Passage\n",
      "M 5.8 - Southwest Indian Ridge\n",
      "M 4.6 - 18km SSE of San Jose de Jachal, Argentina\n",
      "M 5.7 - 100km SSE of Raoul Island, New Zealand\n",
      "M 5.0 - 77km SE of Inarajan Village, Guam\n",
      "M 4.5 - 56km S of Koroni, Greece\n",
      "M 4.7 - 110km SSE of Krajan Tambakrejo, Indonesia\n",
      "M 2.9 - 84km E of Maneadero, B.C., MX\n",
      "M 4.7 - 66km NNW of Bela, Pakistan\n",
      "M 4.4 - 150km WNW of Tobelo, Indonesia\n",
      "M 4.9 - Western Indian-Antarctic Ridge\n",
      "M 3.3 - 99km NNW of Chirikof Island, Alaska\n",
      "M 2.5 - 6km SSW of Alberto Oviedo Mota, B.C., MX\n",
      "M 2.8 - 54km WNW of Talkeetna, Alaska\n",
      "M 2.9 - 4km NW of The Geysers, California\n",
      "M 3.7 - 77km NE of Santa Barbara de Samana, Dominican Republic\n",
      "M 2.8 - 32km SSW of Cohoe, Alaska\n",
      "M 4.2 - 77km N of Nebe, Indonesia\n",
      "M 3.2 - 84km NE of Miches, Dominican Republic\n",
      "M 4.5 - South of the Fiji Islands\n",
      "M 5.0 - 20km SSE of Taron, Papua New Guinea\n",
      "M 5.7 - 109km NE of Hihifo, Tonga\n",
      "M 2.5 - 85km E of Cantwell, Alaska\n",
      "M 2.9 - 17km ENE of Willow Creek, California\n",
      "M 2.9 - 84km SW of Homer, Alaska\n",
      "M 4.6 - 72km ESE of Hachinohe, Japan\n",
      "M 4.6 - 240km N of Siglufjordur, Iceland\n",
      "M 2.8 - 53km N of Loiza, Puerto Rico\n",
      "M 2.9 - 14km N of Cabazon, CA\n",
      "M 4.5 - 12km NNW of Bellavista, Colombia\n",
      "M 4.9 - 24km WNW of Shizukuishi, Japan\n",
      "M 4.5 - 80km WSW of Diego de Almagro, Chile\n",
      "M 2.5 - 60km W of Anchorage, Alaska\n",
      "M 4.4 - 85km E of Karakul, Tajikistan\n",
      "M 2.7 - 10km NW of Puerto Real, Puerto Rico\n",
      "M 4.5 - 60km S of Paracas, Peru\n",
      "M 2.6 - 16km NW of Pawnee, Oklahoma\n",
      "M 2.7 - 67km NNW of Charlotte Amalie, U.S. Virgin Islands\n",
      "M 4.7 - 157km S of Krajan Tambakrejo, Indonesia\n",
      "M 5.3 - 139km SSW of Kokopo, Papua New Guinea\n",
      "M 3.1 - 81km SE of Boca de Yuma, Dominican Republic\n",
      "M 2.7 - 52km WSW of Larsen Bay, Alaska\n",
      "M 3.8 - 57km NNE of Punta Cana, Dominican Republic\n",
      "M 5.3 - 41km SW of Chimbote, Peru\n",
      "M 3.1 - 69km N of Tierras Nuevas Poniente, Puerto Rico\n",
      "M 4.5 - 81km WNW of Panguna, Papua New Guinea\n",
      "M 4.7 - 50km E of Taniwel, Indonesia\n",
      "M 5.2 - 151km SSW of Kokopo, Papua New Guinea\n",
      "M 2.6 - 13km S of Perry, Oklahoma\n",
      "M 4.2 - 230km W of Tual, Indonesia\n",
      "M 4.7 - 86km WNW of Arawa, Papua New Guinea\n",
      "M 3.0 - 58km NNW of Gustavus, Alaska\n",
      "M 5.0 - 30km NNE of Iquique, Chile\n",
      "M 4.7 - 63km S of Champerico, Guatemala\n",
      "M 4.1 - 51km W of Kuh Sefid, Iran\n",
      "M 2.6 - 75km SE of Chignik Lake, Alaska\n",
      "M 2.8 - 18km WNW of Waukomis, Oklahoma\n",
      "M 2.8 - 76km E of Old Iliamna, Alaska\n",
      "M 3.4 - 13km SE of Salvaleon de Higuey, Dominican Republic\n",
      "M 4.5 - 101km S of Coracora, Peru\n",
      "M 4.8 - 61km ESE of Afantou, Greece\n",
      "M 4.9 - 166km ENE of Neiafu, Tonga\n",
      "M 3.2 - 7km N of San Rafael del Yuma, Dominican Republic\n",
      "M 4.7 - Reykjanes Ridge\n",
      "M 4.6 - Reykjanes Ridge\n",
      "M 2.5 - 1km WNW of The Geysers, California\n",
      "M 3.9 - 1km N of The Geysers, California\n",
      "M 5.3 - 27km SSE of Xunchang, China\n",
      "M 3.6 - 65km SW of Redoubt Volcano, Alaska\n",
      "M 2.6 - 13km ESE of Esperanza, Puerto Rico\n",
      "M 4.6 - 5km NW of Kucove, Albania\n",
      "M 5.2 - 25km SSW of Ziway, Ethiopia\n",
      "M 2.8 - 172km SSE of Akutan, Alaska\n",
      "M 3.2 - 73km N of San Juan, Puerto Rico\n",
      "M 2.5 - 22km S of Little Sitkin Island, Alaska\n",
      "M 3.7 - 161km NNE of Road Town, British Virgin Islands\n",
      "M 2.5 - 27km SSW of Whittier, Alaska\n",
      "M 4.5 - 283km S of Ndoi Island, Fiji\n",
      "M 5.1 - 43km E of Calama, Chile\n",
      "M 3.1 - 107km NE of Chignik Lake, Alaska\n",
      "M 3.0 - 74km N of San Juan, Puerto Rico\n",
      "M 2.8 - 68km ESE of Adak, Alaska\n",
      "M 2.7 - 31km WSW of Homer, Alaska\n",
      "M 4.6 - 97km ESE of Bitung, Indonesia\n",
      "M 3.2 - 73km N of San Juan, Puerto Rico\n",
      "M 3.1 - 12km NE of Medford, Oklahoma\n",
      "M 2.6 - 66km S of Cantwell, Alaska\n",
      "M 2.6 - 95km WSW of Amatignak Island, Alaska\n",
      "M 3.1 - 26km E of Honaunau-Napoopoo, Hawaii\n",
      "M 3.2 - 76km N of Hatillo, Puerto Rico\n",
      "M 4.9 - 31km SW of Ashkasham, Afghanistan\n",
      "M 4.7 - 54km SW of Ovalle, Chile\n",
      "M 3.7 - 41km S of Boca de Yuma, Dominican Republic\n",
      "M 3.0 - 116km WSW of Ferndale, California\n",
      "M 2.6 - 38km SSE of Manley Hot Springs, Alaska\n",
      "M 2.7 - 3km S of Santa Clarita, CA\n",
      "M 2.7 - 32km SSE of Esperanza, Puerto Rico\n",
      "M 3.0 - 56km WSW of Haines, Alaska\n",
      "M 2.6 - 45km SE of Akutan, Alaska\n",
      "M 4.2 - 111km E of Iquique, Chile\n",
      "M 4.4 - 234km WNW of Saumlaki, Indonesia\n",
      "M 2.9 - 102km NNW of San Antonio, Puerto Rico\n",
      "M 3.4 - 19km E of Road Town, British Virgin Islands\n"
     ]
    }
   ],
   "source": [
    "# pull out the title from each earthquake listing\n",
    "\n",
    "for q in quakes:\n",
    "    print(q['properties']['title'])"
   ]
  },
  {
   "cell_type": "code",
   "execution_count": 83,
   "metadata": {
    "collapsed": false
   },
   "outputs": [
    {
     "name": "stdout",
     "output_type": "stream",
     "text": [
      "224\n"
     ]
    }
   ],
   "source": [
    "d = {'magnitude': [q['properties']['mag'] for q in quakes],\n",
    "     'depth': [q['geometry']['coordinates'][2] for q in quakes]}\n",
    "\n",
    "df = pd.DataFrame.from_dict(d)\n",
    "\n",
    "# how many earthquakes were loaded into the dataframe?\n",
    "print(len(df))"
   ]
  },
  {
   "cell_type": "code",
   "execution_count": 9,
   "metadata": {
    "collapsed": false
   },
   "outputs": [
    {
     "name": "stdout",
     "output_type": "stream",
     "text": [
      "   depth  magnitude\n",
      "0   87.5        2.5\n",
      "1   97.6        2.5\n",
      "2   75.0        3.6\n",
      "3   10.0        4.9\n",
      "4  170.0        2.9\n"
     ]
    }
   ],
   "source": [
    "# print the first few lines of data\n",
    "\n",
    "print(df.head())"
   ]
  },
  {
   "cell_type": "code",
   "execution_count": 10,
   "metadata": {
    "collapsed": false
   },
   "outputs": [
    {
     "name": "stdout",
     "output_type": "stream",
     "text": [
      "            depth   magnitude\n",
      "count  226.000000  226.000000\n",
      "mean    59.172965    3.778053\n",
      "std     85.186612    0.969785\n",
      "min     -0.280000    2.460000\n",
      "25%     10.000000    2.802500\n",
      "50%     31.230000    3.650000\n",
      "75%     77.202500    4.675000\n",
      "max    558.050000    5.900000\n"
     ]
    }
   ],
   "source": [
    "# print some descriptive statistics\n",
    "\n",
    "print(df.describe())"
   ]
  },
  {
   "cell_type": "code",
   "execution_count": 11,
   "metadata": {
    "collapsed": false
   },
   "outputs": [
    {
     "data": {
      "text/plain": [
       "<matplotlib.axes._subplots.AxesSubplot at 0x8a2f828>"
      ]
     },
     "execution_count": 11,
     "metadata": {},
     "output_type": "execute_result"
    },
    {
     "data": {
      "image/png": "[encoded data removed]",
      "text/plain": [
       "<matplotlib.figure.Figure at 0x4b756d8>"
      ]
     },
     "metadata": {},
     "output_type": "display_data"
    }
   ],
   "source": [
    "# plot the depth vs. magnitude\n",
    "\n",
    "df.plot(x='magnitude', y='depth', kind='scatter')"
   ]
  },
  {
   "cell_type": "code",
   "execution_count": 12,
   "metadata": {
    "collapsed": false
   },
   "outputs": [
    {
     "name": "stdout",
     "output_type": "stream",
     "text": [
      "file saved\n"
     ]
    }
   ],
   "source": [
    "# save the dataframe to disk\n",
    "\n",
    "df.to_csv('usgs_earthquake_data.csv')\n",
    "\n",
    "print('file saved')"
   ]
  },
  {
   "cell_type": "code",
   "execution_count": 13,
   "metadata": {
    "collapsed": false
   },
   "outputs": [
    {
     "name": "stdout",
     "output_type": "stream",
     "text": [
      "   depth  magnitude\n",
      "0   87.5        2.5\n",
      "1   97.6        2.5\n",
      "2   75.0        3.6\n",
      "3   10.0        4.9\n",
      "4  170.0        2.9\n"
     ]
    }
   ],
   "source": [
    "# read it back later\n",
    "\n",
    "new_df = pd.DataFrame.from_csv('usgs_earthquake_data.csv')\n",
    "\n",
    "print(new_df.head())"
   ]
  },
  {
   "cell_type": "code",
   "execution_count": null,
   "metadata": {
    "collapsed": true
   },
   "outputs": [],
   "source": []
  },
  {
   "cell_type": "code",
   "execution_count": null,
   "metadata": {
    "collapsed": true
   },
   "outputs": [],
   "source": []
  },
  {
   "cell_type": "code",
   "execution_count": null,
   "metadata": {
    "collapsed": true
   },
   "outputs": [],
   "source": []
  },
  {
   "cell_type": "markdown",
   "metadata": {},
   "source": [
    "# Part 2: Querying an API endpoint\n",
    "\n",
    "### Google Maps Geocoding API\n",
    "\n",
    "Google has lots of APIs that let you access its services through code instead of through GUI apps. This one from Google Maps lets you look up the latitude-longitude coordinates of street addresses.\n",
    "\n",
    "It works similarly to the earthquakes example, but with query parameters added to the URL endpoint!\n",
    "\n",
    "**API documentation:**  \n",
    "https://developers.google.com/maps/documentation/geocoding/intro\n",
    "\n",
    "**API endpoint:**  \n",
    "https://maps.googleapis.com/maps/api/geocode/json\n",
    "\n",
    "**API endpoint with query parameters:**  \n",
    "https://maps.googleapis.com/maps/api/geocode/json?address=Wurster+Hall"
   ]
  },
  {
   "cell_type": "code",
   "execution_count": 19,
   "metadata": {
    "collapsed": true
   },
   "outputs": [],
   "source": [
    "import json    # library for working with JSON-formatted text strings\n",
    "import requests  # library for accessing content from web URLs\n",
    "\n",
    "import pprint  # library for making Python data structures readable\n",
    "pp = pprint.PrettyPrinter()"
   ]
  },
  {
   "cell_type": "code",
   "execution_count": 26,
   "metadata": {
    "collapsed": false
   },
   "outputs": [
    {
     "name": "stdout",
     "output_type": "stream",
     "text": [
      "https://maps.googleapis.com/maps/api/geocode/json?address=times+square+ny+uky\n"
     ]
    }
   ],
   "source": [
    "# we have to encode the search query so that it can be passed as a URL, \n",
    "# with spaces and other special characters removed\n",
    "\n",
    "endpoint = 'https://maps.googleapis.com/maps/api/geocode/json'\n",
    "\n",
    "params = {'address': 'times square ny uky'}\n",
    "\n",
    "url = requests.Request('GET', endpoint, params=params).prepare().url\n",
    "print(url)"
   ]
  },
  {
   "cell_type": "code",
   "execution_count": 16,
   "metadata": {
    "collapsed": false
   },
   "outputs": [
    {
     "name": "stdout",
     "output_type": "stream",
     "text": [
      "{'results': [{'types': ['establishment', 'library', 'point_of_interest'], 'geometry': {'viewport': {'northeast': {'lng': -84.50036891970849, 'lat': 38.0342210802915}, 'southwest': {'lng': -84.5030668802915, 'lat': 38.0315231197085}}, 'location': {'lng': -84.5017179, 'lat': 38.0328721}, 'location_type': 'APPROXIMATE'}, 'formatted_address': '401 Hilltop Ave, Lexington, KY 40506, USA', 'address_components': [{'short_name': '401', 'long_name': '401', 'types': ['street_number']}, {'short_name': 'Hilltop Ave', 'long_name': 'Hilltop Avenue', 'types': ['route']}, {'short_name': 'Lexington', 'long_name': 'Lexington', 'types': ['locality', 'political']}, {'short_name': 'Fayette County', 'long_name': 'Fayette County', 'types': ['administrative_area_level_2', 'political']}, {'short_name': 'KY', 'long_name': 'Kentucky', 'types': ['administrative_area_level_1', 'political']}, {'short_name': 'US', 'long_name': 'United States', 'types': ['country', 'political']}, {'short_name': '40506', 'long_name': '40506', 'types': ['postal_code']}, {'short_name': '0001', 'long_name': '0001', 'types': ['postal_code_suffix']}], 'place_id': 'ChIJ4TWVhLhEQogRoRWbSlkOZZY'}], 'status': 'OK'}\n"
     ]
    }
   ],
   "source": [
    "# download and parse the results\n",
    "\n",
    "response = requests.get(url)\n",
    "results = response.text\n",
    "data = json.loads(results)\n",
    "\n",
    "print(data)"
   ]
  },
  {
   "cell_type": "code",
   "execution_count": 17,
   "metadata": {
    "collapsed": false
   },
   "outputs": [
    {
     "name": "stdout",
     "output_type": "stream",
     "text": [
      "{'results': [{'address_components': [{'long_name': '401',\n",
      "                                      'short_name': '401',\n",
      "                                      'types': ['street_number']},\n",
      "                                     {'long_name': 'Hilltop Avenue',\n",
      "                                      'short_name': 'Hilltop Ave',\n",
      "                                      'types': ['route']},\n",
      "                                     {'long_name': 'Lexington',\n",
      "                                      'short_name': 'Lexington',\n",
      "                                      'types': ['locality', 'political']},\n",
      "                                     {'long_name': 'Fayette County',\n",
      "                                      'short_name': 'Fayette County',\n",
      "                                      'types': ['administrative_area_level_2',\n",
      "                                                'political']},\n",
      "                                     {'long_name': 'Kentucky',\n",
      "                                      'short_name': 'KY',\n",
      "                                      'types': ['administrative_area_level_1',\n",
      "                                                'political']},\n",
      "                                     {'long_name': 'United States',\n",
      "                                      'short_name': 'US',\n",
      "                                      'types': ['country', 'political']},\n",
      "                                     {'long_name': '40506',\n",
      "                                      'short_name': '40506',\n",
      "                                      'types': ['postal_code']},\n",
      "                                     {'long_name': '0001',\n",
      "                                      'short_name': '0001',\n",
      "                                      'types': ['postal_code_suffix']}],\n",
      "              'formatted_address': '401 Hilltop Ave, Lexington, KY 40506, USA',\n",
      "              'geometry': {'location': {'lat': 38.0328721, 'lng': -84.5017179},\n",
      "                           'location_type': 'APPROXIMATE',\n",
      "                           'viewport': {'northeast': {'lat': 38.0342210802915,\n",
      "                                                      'lng': -84.50036891970849},\n",
      "                                        'southwest': {'lat': 38.0315231197085,\n",
      "                                                      'lng': -84.5030668802915}}},\n",
      "              'place_id': 'ChIJ4TWVhLhEQogRoRWbSlkOZZY',\n",
      "              'types': ['establishment', 'library', 'point_of_interest']}],\n",
      " 'status': 'OK'}\n"
     ]
    }
   ],
   "source": [
    "# print it more nicely\n",
    "\n",
    "pp.pprint(data)"
   ]
  },
  {
   "cell_type": "code",
   "execution_count": 18,
   "metadata": {
    "collapsed": false
   },
   "outputs": [
    {
     "name": "stdout",
     "output_type": "stream",
     "text": [
      "38.0328721 -84.5017179\n"
     ]
    }
   ],
   "source": [
    "# pull out the lat-lon coordinates\n",
    "\n",
    "for r in data['results']:\n",
    "    coords = r['geometry']['location']\n",
    "    print(coords['lat'], coords['lng'])"
   ]
  },
  {
   "cell_type": "markdown",
   "metadata": {},
   "source": [
    "### Exercises\n",
    "\n",
    "1. Search for some other addresses or landmarks!\n",
    "2. Take a look at the [API documentation](https://developers.google.com/maps/documentation/geocoding/intro). What are the usage limits?"
   ]
  },
  {
   "cell_type": "code",
   "execution_count": null,
   "metadata": {
    "collapsed": true
   },
   "outputs": [],
   "source": []
  },
  {
   "cell_type": "code",
   "execution_count": null,
   "metadata": {
    "collapsed": true
   },
   "outputs": [],
   "source": []
  },
  {
   "cell_type": "code",
   "execution_count": null,
   "metadata": {
    "collapsed": true
   },
   "outputs": [],
   "source": []
  },
  {
   "cell_type": "markdown",
   "metadata": {},
   "source": [
    "# Part 3: Querying an API with authentication\n",
    "\n",
    "### Twitter REST APIs\n",
    "\n",
    "Twitter's APIs also operate over the web, but they require a back-and-forth authentication process at the beginning of each connection. It's easier to have a Python library handle this than to create the query URLs ourselves.\n",
    "\n",
    "The Twitter \"REST\" APIs perform stand-alone operations: you submit a query and receive results, like in earlier examples. ([REST](https://en.wikipedia.org/wiki/Representational_state_transfer) is a particular set of guidelines that many APIs follow.) Twitter also has a \"streaming\" API that continues sending results in real time until you disconnect.\n",
    "\n",
    "**API documentation:**  \n",
    "https://dev.twitter.com/rest/public  \n",
    "https://dev.twitter.com/overview/api/tweets\n",
    "\n",
    "**Documentation for the Python helper library**:  \n",
    "https://github.com/geduldig/TwitterAPI"
   ]
  },
  {
   "cell_type": "code",
   "execution_count": 32,
   "metadata": {
    "collapsed": false
   },
   "outputs": [],
   "source": [
    "from TwitterAPI import TwitterAPI\n",
    "\n",
    "import pprint  # library for making Python data structures readable\n",
    "pp = pprint.PrettyPrinter()"
   ]
  },
  {
   "cell_type": "code",
   "execution_count": 33,
   "metadata": {
    "collapsed": false
   },
   "outputs": [],
   "source": [
    "# import API credentials from keys.py file in the\n",
    "# same directory as this notebook\n",
    "\n",
    "from keys import *"
   ]
  },
  {
   "cell_type": "code",
   "execution_count": 34,
   "metadata": {
    "collapsed": false
   },
   "outputs": [
    {
     "name": "stdout",
     "output_type": "stream",
     "text": [
      "Connection is set up but not tested\n"
     ]
    }
   ],
   "source": [
    "# set up an API connection using credentials from the keys file\n",
    "\n",
    "api = TwitterAPI(consumer_key, consumer_secret, \n",
    "                 access_token, access_token_secret)\n",
    "\n",
    "print(\"Connection is set up but not tested\")"
   ]
  },
  {
   "cell_type": "markdown",
   "metadata": {},
   "source": [
    "### Making a simple data request"
   ]
  },
  {
   "cell_type": "code",
   "execution_count": null,
   "metadata": {
    "collapsed": false
   },
   "outputs": [],
   "source": [
    "# most recent tweet from @UCBerkeley's timeline\n",
    "\n",
    "endpoint = 'statuses/user_timeline'\n",
    "params = {\n",
    "    'screen_name': 'UKAthletics', \n",
    "    'count': 1\n",
    "}\n",
    "r = api.request(endpoint, params)\n",
    "\n",
    "for tweet in r.get_iterator():\n",
    "    print(tweet['text'])"
   ]
  },
  {
   "cell_type": "code",
   "execution_count": null,
   "metadata": {
    "collapsed": false
   },
   "outputs": [],
   "source": [
    "# what other data is there?\n",
    "\n",
    "pp.pprint(tweet)"
   ]
  },
  {
   "cell_type": "markdown",
   "metadata": {},
   "source": [
    "### Other API endpoints allow different types of searches"
   ]
  },
  {
   "cell_type": "code",
   "execution_count": null,
   "metadata": {
    "collapsed": false
   },
   "outputs": [],
   "source": [
    "# search for public tweets about #bart\n",
    "\n",
    "endpoint = 'search/tweets'\n",
    "params = {\n",
    "    'q': '#kentuckywildcats', \n",
    "    'count': 5\n",
    "}\n",
    "r = api.request(endpoint, params)\n",
    "\n",
    "for tweet in r.get_iterator():\n",
    "    print(tweet['text'] + '\\n')"
   ]
  },
  {
   "cell_type": "code",
   "execution_count": null,
   "metadata": {
    "collapsed": false
   },
   "outputs": [],
   "source": [
    "# search for public tweets in Hindi\n",
    "\n",
    "endpoint = 'search/tweets'\n",
    "params = {\n",
    "    'q': '*', \n",
    "    'lang': 'hi', \n",
    "    'count': 5\n",
    "} \n",
    "r = api.request(endpoint, params)\n",
    "\n",
    "for tweet in r.get_iterator():\n",
    "    print(tweet['text'] + '\\n')"
   ]
  },
  {
   "cell_type": "code",
   "execution_count": null,
   "metadata": {
    "collapsed": false
   },
   "outputs": [],
   "source": [
    "# search for public tweets geotagged near the UK campus\n",
    "\n",
    "endpoint = 'search/tweets'\n",
    "params = {\n",
    "    'q': '*', \n",
    "    'geocode': '38.034,-84.500,0.5km', \n",
    "    'count': 5\n",
    "} \n",
    "r = api.request(endpoint, params)\n",
    "\n",
    "for tweet in r.get_iterator():\n",
    "    print(tweet['text'] + '\\n')"
   ]
  },
  {
   "cell_type": "markdown",
   "metadata": {},
   "source": [
    "### Exercises\n",
    "\n",
    "1. Try some different search queries!\n",
    "2. Display some more data fields in addition to the tweet text"
   ]
  },
  {
   "cell_type": "code",
   "execution_count": 37,
   "metadata": {
    "collapsed": false
   },
   "outputs": [
    {
     "name": "stdout",
     "output_type": "stream",
     "text": [
      "RT @ESPNU: What do you do when you need a bucket?\n",
      "\n",
      "Find Josh Jackson. @KUHoops https://t.co/3cklobK9bT\n",
      "#kubball improved to 8-0 against top-5 teams inside AFH &amp; reach 20 wins for the 28th-straight season – a streak tha… https://t.co/lZjn9uA9WX\n",
      "Photos highlight KU holding off Baylor in Allen Fieldhouse. Gallery: https://t.co/DniC7NrmPM https://t.co/iYMrTlpY17\n",
      "Withstanding a test from Baylor, #kubball moves into sole possession of first place in the Big 12 standings\n",
      "\n",
      "RECAP:… https://t.co/YqZIEQl1lt\n",
      "\"Our fans and our students definitely deserve a lot of credit for how well we play here.\" -@CoachBillSelf on #kubball's home court advantage\n"
     ]
    }
   ],
   "source": [
    "# most recent tweet from @UCBerkeley's timeline\n",
    "\n",
    "endpoint = 'statuses/user_timeline'\n",
    "params = {\n",
    "    'screen_name': 'KUHoops', \n",
    "    'count': 5\n",
    "}\n",
    "r = api.request(endpoint, params)\n",
    "\n",
    "for tweet in r.get_iterator():\n",
    "    print(tweet['text'])"
   ]
  },
  {
   "cell_type": "code",
   "execution_count": null,
   "metadata": {
    "collapsed": true
   },
   "outputs": [],
   "source": []
  },
  {
   "cell_type": "markdown",
   "metadata": {},
   "source": [
    "### Bonus: Streaming live tweets in real time "
   ]
  },
  {
   "cell_type": "code",
   "execution_count": null,
   "metadata": {
    "collapsed": false
   },
   "outputs": [],
   "source": [
    "# Twitter limits simultaneous connections to the streaming API,\n",
    "# so this part may not work using the demo API keys during class\n",
    "\n",
    "endpoint = 'statuses/filter'\n",
    "params = {'locations': '-180,-90,180,90'}\n",
    "r = api.request(endpoint, params)\n",
    "LIMIT = 20\n",
    "\n",
    "# 'enumerate' lets us count tweets as we receive them\n",
    "\n",
    "for i, tweet in enumerate(r.get_iterator()):\n",
    "    print(tweet['created_at'])\n",
    "    print(tweet['place']['full_name'] + ', ' + tweet['place']['country'])\n",
    "    print(tweet['text'] + '\\n')\n",
    "    if (i > LIMIT): break\n",
    "\n",
    "# close the streaming connection\n",
    "r.close()"
   ]
  },
  {
   "cell_type": "code",
   "execution_count": null,
   "metadata": {
    "collapsed": true
   },
   "outputs": [],
   "source": []
  },
  {
   "cell_type": "code",
   "execution_count": null,
   "metadata": {
    "collapsed": true
   },
   "outputs": [],
   "source": []
  },
  {
   "cell_type": "code",
   "execution_count": null,
   "metadata": {
    "collapsed": true
   },
   "outputs": [],
   "source": []
  },
  {
   "cell_type": "markdown",
   "metadata": {},
   "source": [
    "### Exercises for the remainder of class\n",
    "\n",
    "1. Make a scatter plot of the lat-lon coordinates of earthquakes.  \n",
    "   &nbsp;\n",
    "   \n",
    "2. Using the geocoding example as a starting point, try searching the Google Maps Directions API or Elevation API instead. Descriptions are in the [API documentation](https://developers.google.com/maps/documentation/geocoding/intro).  \n",
    "   &nbsp;\n",
    "   "
   ]
  },
  {
   "cell_type": "code",
   "execution_count": 118,
   "metadata": {
    "collapsed": false
   },
   "outputs": [
    {
     "name": "stdout",
     "output_type": "stream",
     "text": [
      "224\n"
     ]
    }
   ],
   "source": [
    "d = {'latitude': [q['geometry']['coordinates'][1] for q in quakes],\n",
    "     'longitude': [q['geometry']['coordinates'][0] for q in quakes]}\n",
    "\n",
    "df = pd.DataFrame.from_dict(d)\n",
    "\n",
    "# how many earthquakes were loaded into the dataframe?\n",
    "print(len(df))"
   ]
  },
  {
   "cell_type": "code",
   "execution_count": 120,
   "metadata": {
    "collapsed": false
   },
   "outputs": [
    {
     "name": "stdout",
     "output_type": "stream",
     "text": [
      "   latitude  longitude\n",
      "0   60.6067  -151.9930\n",
      "1   59.7842  -152.9527\n",
      "2   18.6070   -65.9540\n",
      "3  -27.0828  -175.9863\n",
      "4   60.1192  -153.4994\n"
     ]
    }
   ],
   "source": [
    "print(df.head())"
   ]
  },
  {
   "cell_type": "code",
   "execution_count": 122,
   "metadata": {
    "collapsed": false
   },
   "outputs": [
    {
     "data": {
      "text/plain": [
       "<matplotlib.axes._subplots.AxesSubplot at 0xb2e7048>"
      ]
     },
     "execution_count": 122,
     "metadata": {},
     "output_type": "execute_result"
    },
    {
     "data": {
      "image/png": "[encoded data removed]",
      "text/plain": [
       "<matplotlib.figure.Figure at 0xb4b3438>"
      ]
     },
     "metadata": {},
     "output_type": "display_data"
    }
   ],
   "source": [
    "df.plot(x='longitude', y='latitude', kind='scatter')"
   ]
  },
  {
   "cell_type": "markdown",
   "metadata": {
    "collapsed": true
   },
   "source": [
    "### For next time...\n",
    "\n",
    "In the next class, you will try out another API that provides data you're interested in. You will be asked to try connecting to it using Python code, and performing some basic operations on the data.  To come prepared for next time, please explore some of the transportation-related APIs that may be valuable, and choose one that is of interest to you.\n",
    "\n",
    "Here are a a few to get you started. \n",
    "\n",
    "Public Transit\n",
    "https://www.programmableweb.com/news/how-smart-cities-are-using-apis-public-transport-apis/2014/05/22\n",
    "\n",
    "Long-Distance Travel\n",
    "http://www.olery.com/blog/the-best-travel-apis-discover-contribute/ \n",
    "\n",
    "Transportation\n",
    "https://www.programmableweb.com/category/transportation/api\n",
    "\n",
    "\n",
    "Start by reading the public transit page, because that provides a nice overview of the types of applications out there, and some of the issues in using them.  These lessons often apply to traffic and transportation more generally.  \n",
    "\n",
    "Keep in mind that there are a number of different organizations that provide APIs, with different motivations and quality of what is provided.  If it is a private company, what is their business model?  What is the underlying source of the data, and what might that imply about how representative it is of the real world?  There is a ton of stuff out there.  How do we go about sorting out what is useful to us and what is now.  Spend some time exploring these and thinking about these questions.  \n"
   ]
  },
  {
   "cell_type": "code",
   "execution_count": null,
   "metadata": {
    "collapsed": true
   },
   "outputs": [],
   "source": []
  },
  {
   "cell_type": "code",
   "execution_count": null,
   "metadata": {
    "collapsed": true
   },
   "outputs": [],
   "source": []
  },
  {
   "cell_type": "code",
   "execution_count": null,
   "metadata": {
    "collapsed": true
   },
   "outputs": [],
   "source": []
  }
 ],
 "metadata": {
  "anaconda-cloud": {},
  "kernelspec": {
   "display_name": "Python [default]",
   "language": "python",
   "name": "python3"
  },
  "language_info": {
   "codemirror_mode": {
    "name": "ipython",
    "version": 3
   },
   "file_extension": ".py",
   "mimetype": "text/x-python",
   "name": "python",
   "nbconvert_exporter": "python",
   "pygments_lexer": "ipython3",
   "version": "3.5.2"
  }
 },
 "nbformat": 4,
 "nbformat_minor": 0
}
