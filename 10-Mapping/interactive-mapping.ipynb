{
 "cells": [
  {
   "cell_type": "markdown",
   "metadata": {},
   "source": [
    "# Mapping \n",
    "\n",
    "Transportation is about getting from place A to place B.  Therefore, most transportation data has a spatial component to it.  It is nice to be able to put these data on a map and see what is going on.  It is even better if we can put it on a map and interact with the data.  It would be even cooler if we could put our interactive map on a website to show it off!\n",
    "\n",
    "To do this, we are going to use a package called folium.  You can find the documentation here: \n",
    "\n",
    "https://folium.readthedocs.io/en/latest/\n",
    "\n",
    "And access it on github here: \n",
    "\n",
    "https://github.com/python-visualization/folium\n"
   ]
  },
  {
   "cell_type": "markdown",
   "metadata": {},
   "source": [
    "### Credits\n",
    "\n",
    "This lesson draws from the folium quickstart notebook, and from Vik Paruchuri DataQuest lesson: \n",
    "\n",
    "https://www.dataquest.io/blog/python-data-visualization-libraries/"
   ]
  },
  {
   "cell_type": "markdown",
   "metadata": {},
   "source": [
    "### A side note on static mapping\n",
    "\n",
    "Sometimes you may want to create a static map instead of an interactive map.  Interactive maps are nice for exploring your data, but static maps work well for an image that you can insert into a paper.  If you want to create static maps, then basemap is a good tool.  Here is a nice lesson focused on mapping earthquake activity: \n",
    "\n",
    "http://introtopython.org/visualization_earthquakes.html\n",
    "\n"
   ]
  },
  {
   "cell_type": "markdown",
   "metadata": {},
   "source": [
    "### OK, back to interactive mapping, because that's fun...\n",
    "\n",
    "It turns out that folium doesn't do much itself.  It is just a wrapper around something called leafletjs.  You can read more about that here:\n",
    "\n",
    "http://leafletjs.com/index.html\n",
    "\n",
    "Leaflet is a library in the JavaScript language.  JavaScript is the language used for most web applications.  We could do the same thing using JavaScript and leaflet directly, but then we would have to learn the syntax for another language.  That might not be too hard, but to keep it simple, we'll stick to the python wrapper for now.  It is good to be aware of, though, because if you want more options than folium allows, you can go directly to leaflet.  \n",
    "\n",
    "What makes this possible is the fact that leaflet has a well-defined API.  That means that we can pass data back and forth, even from a different language.  \n"
   ]
  },
  {
   "cell_type": "markdown",
   "metadata": {},
   "source": [
    "### Setup\n",
    "\n",
    "Start by installing folium using pip.  At a command prompt, type: \n",
    "\n",
    "    pip install folium\n",
    "\n",
    "Hmm...when I tried this on my desktop, I get an error that says: \n",
    "\n",
    "    PermissionError: [WinError 5] Access is denied: 'c:\\\\program files\\\\anaconda3\\\\Lib\\\\site-packages\\\\folium'\n",
    "    \n",
    "It seems that it is trying to install something in the program files directory, which Windows has protected.  This will depend on the security settings on your machine.  If you get this error, open a command prompt as an administrator.  In the windows search bar, type cmd.  When you see the command prompt, right click, and select run as administrator.  \n",
    "\n",
    "This did the trick, and now I get: \n",
    "\n",
    "    Successfully installed folium-0.2.1\n",
    "    \n",
    "In addition, let's go to github and clone the folium repository (https://github.com/python-visualization/folium) to our desktop.  This gives us the source code on our local machine.  What we're really interested in is the examples folder, which gives us a bunch of jupyter notebooks showing how to do different stuff.  You are welcome to explore these as needed. \n",
    "\n",
    "You also need to install geopandas, which will make it easier to work with goegraphic data.  The pip installer doesn't work (the long explanation is here: http://geoffboeing.com/2014/09/using-geopandas-windows/), so we'll install using anaconda.  Type: \n",
    "\n",
    "    conda install -c conda-forge geopandas\n",
    " "
   ]
  },
  {
   "cell_type": "markdown",
   "metadata": {
    "collapsed": true
   },
   "source": [
    "\n",
    "Getting Started\n",
    "---------------\n",
    "\n",
    "To create a base map, simply pass your starting coordinates to Folium:"
   ]
  },
  {
   "cell_type": "code",
   "execution_count": 1,
   "metadata": {
    "collapsed": false
   },
   "outputs": [],
   "source": [
    "import folium"
   ]
  },
  {
   "cell_type": "code",
   "execution_count": 2,
   "metadata": {
    "collapsed": false
   },
   "outputs": [],
   "source": [
    "m = folium.Map(location=[38.034,-84.500])"
   ]
  },
  {
   "cell_type": "markdown",
   "metadata": {
    "collapsed": true
   },
   "source": [
    "to display it in your notebook, just ask for the object representation. "
   ]
  },
  {
   "cell_type": "code",
   "execution_count": 3,
   "metadata": {
    "collapsed": false
   },
   "outputs": [
    {
     "data": {
      "text/html": [
       "<div style=\"width:100%;\"><div style=\"position:relative;width:100%;height:0;padding-bottom:60%;\"><iframe src=\"data:text/html;charset=utf-8;base64,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\" style=\"position:absolute;width:100%;height:100%;left:0;top:0;border:none !important;\" allowfullscreen webkitallowfullscreen mozallowfullscreen></iframe></div></div>"
      ],
      "text/plain": [
       "<folium.folium.Map at 0x6c6a6b0>"
      ]
     },
     "execution_count": 3,
     "metadata": {},
     "output_type": "execute_result"
    }
   ],
   "source": [
    "m"
   ]
  },
  {
   "cell_type": "markdown",
   "metadata": {},
   "source": [
    "To save it in a file"
   ]
  },
  {
   "cell_type": "code",
   "execution_count": 4,
   "metadata": {
    "collapsed": true
   },
   "outputs": [],
   "source": [
    "m.save('lex.html')"
   ]
  },
  {
   "cell_type": "markdown",
   "metadata": {},
   "source": [
    "We can use different backgrounds, or tilesets.  Several are built in.  Options include Stamen Terrain, Stamen Toner, Mapbox Bright, and Mapbox Control room tiles. "
   ]
  },
  {
   "cell_type": "code",
   "execution_count": 5,
   "metadata": {
    "collapsed": false
   },
   "outputs": [
    {
     "data": {
      "text/html": [
       "<div style=\"width:100%;\"><div style=\"position:relative;width:100%;height:0;padding-bottom:60%;\"><iframe src=\"data:text/html;charset=utf-8;base64,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\" style=\"position:absolute;width:100%;height:100%;left:0;top:0;border:none !important;\" allowfullscreen webkitallowfullscreen mozallowfullscreen></iframe></div></div>"
      ],
      "text/plain": [
       "<folium.folium.Map at 0x6cc7330>"
      ]
     },
     "execution_count": 5,
     "metadata": {},
     "output_type": "execute_result"
    }
   ],
   "source": [
    "folium.Map(\n",
    "    location=[38.034,-84.500],\n",
    "    tiles='Stamen Toner',\n",
    "    zoom_start=13\n",
    ")"
   ]
  },
  {
   "cell_type": "markdown",
   "metadata": {},
   "source": [
    "Pick one you like and work with that for the rest of the class.  "
   ]
  },
  {
   "cell_type": "markdown",
   "metadata": {
    "collapsed": true
   },
   "source": [
    "Folium also supports Cloudmade and Mapbox custom tilesets- simply pass your key to the API_key keyword.  These are services where you can buy more backgrounds to make your maps look nice. \n",
    "\n",
    "```python\n",
    "folium.Map(location=[45.5236, -122.6750],\n",
    "           tiles='Mapbox',\n",
    "           API_key='your.API.key')\n",
    "```"
   ]
  },
  {
   "cell_type": "markdown",
   "metadata": {},
   "source": [
    "### Open flights\n",
    "\n",
    "Let's go back to our openflight data and make some maps. "
   ]
  },
  {
   "cell_type": "code",
   "execution_count": 6,
   "metadata": {
    "collapsed": true
   },
   "outputs": [],
   "source": [
    "import pandas as pd\n",
    "import numpy as np"
   ]
  },
  {
   "cell_type": "code",
   "execution_count": 7,
   "metadata": {
    "collapsed": false
   },
   "outputs": [],
   "source": [
    "# These files use \\N as a missing value indicator.  When reading the CSVs, we will tell\n",
    "# it to use that value as missing or NA.  The double backslash is required because\n",
    "# otherwise it will interpret \\N as a carriage return. \n",
    "\n",
    "# Read in the airports data.\n",
    "airports = pd.read_csv(\"data/airports.dat\", header=None, na_values='\\\\N')\n",
    "airports.columns = [\"id\", \"name\", \"city\", \"country\", \"iata\", \"icao\", \"latitude\", \"longitude\", \"altitude\",\"timezone\", \"dst\", \"tz\", \"type\", \"source\"]\n",
    "\n",
    "# Read in the airlines data.\n",
    "airlines = pd.read_csv(\"data/airlines.dat\", header=None, na_values='\\\\N')\n",
    "airlines.columns = [\"id\", \"name\", \"alias\", \"iata\", \"icao\", \"callsign\", \"country\", \"active\"]\n",
    "\n",
    "# Read in the routes data.\n",
    "routes = pd.read_csv(\"data/routes.dat\", header=None, na_values='\\\\N')\n",
    "routes.columns = [\"airline\", \"airline_id\", \"source\", \"source_id\", \"dest\", \"dest_id\", \"codeshare\", \"stops\", \"equipment\"]"
   ]
  },
  {
   "cell_type": "code",
   "execution_count": 8,
   "metadata": {
    "collapsed": false
   },
   "outputs": [
    {
     "data": {
      "text/html": [
       "<div>\n",
       "<table border=\"1\" class=\"dataframe\">\n",
       "  <thead>\n",
       "    <tr style=\"text-align: right;\">\n",
       "      <th></th>\n",
       "      <th>id</th>\n",
       "      <th>name</th>\n",
       "      <th>city</th>\n",
       "      <th>country</th>\n",
       "      <th>iata</th>\n",
       "      <th>icao</th>\n",
       "      <th>latitude</th>\n",
       "      <th>longitude</th>\n",
       "      <th>altitude</th>\n",
       "      <th>timezone</th>\n",
       "      <th>dst</th>\n",
       "      <th>tz</th>\n",
       "      <th>type</th>\n",
       "      <th>source</th>\n",
       "    </tr>\n",
       "  </thead>\n",
       "  <tbody>\n",
       "    <tr>\n",
       "      <th>0</th>\n",
       "      <td>1</td>\n",
       "      <td>Goroka Airport</td>\n",
       "      <td>Goroka</td>\n",
       "      <td>Papua New Guinea</td>\n",
       "      <td>GKA</td>\n",
       "      <td>AYGA</td>\n",
       "      <td>-6.081690</td>\n",
       "      <td>145.391998</td>\n",
       "      <td>5282</td>\n",
       "      <td>10.0</td>\n",
       "      <td>U</td>\n",
       "      <td>Pacific/Port_Moresby</td>\n",
       "      <td>airport</td>\n",
       "      <td>OurAirports</td>\n",
       "    </tr>\n",
       "    <tr>\n",
       "      <th>1</th>\n",
       "      <td>2</td>\n",
       "      <td>Madang Airport</td>\n",
       "      <td>Madang</td>\n",
       "      <td>Papua New Guinea</td>\n",
       "      <td>MAG</td>\n",
       "      <td>AYMD</td>\n",
       "      <td>-5.207080</td>\n",
       "      <td>145.789001</td>\n",
       "      <td>20</td>\n",
       "      <td>10.0</td>\n",
       "      <td>U</td>\n",
       "      <td>Pacific/Port_Moresby</td>\n",
       "      <td>airport</td>\n",
       "      <td>OurAirports</td>\n",
       "    </tr>\n",
       "    <tr>\n",
       "      <th>2</th>\n",
       "      <td>3</td>\n",
       "      <td>Mount Hagen Kagamuga Airport</td>\n",
       "      <td>Mount Hagen</td>\n",
       "      <td>Papua New Guinea</td>\n",
       "      <td>HGU</td>\n",
       "      <td>AYMH</td>\n",
       "      <td>-5.826790</td>\n",
       "      <td>144.296005</td>\n",
       "      <td>5388</td>\n",
       "      <td>10.0</td>\n",
       "      <td>U</td>\n",
       "      <td>Pacific/Port_Moresby</td>\n",
       "      <td>airport</td>\n",
       "      <td>OurAirports</td>\n",
       "    </tr>\n",
       "    <tr>\n",
       "      <th>3</th>\n",
       "      <td>4</td>\n",
       "      <td>Nadzab Airport</td>\n",
       "      <td>Nadzab</td>\n",
       "      <td>Papua New Guinea</td>\n",
       "      <td>LAE</td>\n",
       "      <td>AYNZ</td>\n",
       "      <td>-6.569803</td>\n",
       "      <td>146.725977</td>\n",
       "      <td>239</td>\n",
       "      <td>10.0</td>\n",
       "      <td>U</td>\n",
       "      <td>Pacific/Port_Moresby</td>\n",
       "      <td>airport</td>\n",
       "      <td>OurAirports</td>\n",
       "    </tr>\n",
       "    <tr>\n",
       "      <th>4</th>\n",
       "      <td>5</td>\n",
       "      <td>Port Moresby Jacksons International Airport</td>\n",
       "      <td>Port Moresby</td>\n",
       "      <td>Papua New Guinea</td>\n",
       "      <td>POM</td>\n",
       "      <td>AYPY</td>\n",
       "      <td>-9.443380</td>\n",
       "      <td>147.220001</td>\n",
       "      <td>146</td>\n",
       "      <td>10.0</td>\n",
       "      <td>U</td>\n",
       "      <td>Pacific/Port_Moresby</td>\n",
       "      <td>airport</td>\n",
       "      <td>OurAirports</td>\n",
       "    </tr>\n",
       "  </tbody>\n",
       "</table>\n",
       "</div>"
      ],
      "text/plain": [
       "   id                                         name          city  \\\n",
       "0   1                               Goroka Airport        Goroka   \n",
       "1   2                               Madang Airport        Madang   \n",
       "2   3                 Mount Hagen Kagamuga Airport   Mount Hagen   \n",
       "3   4                               Nadzab Airport        Nadzab   \n",
       "4   5  Port Moresby Jacksons International Airport  Port Moresby   \n",
       "\n",
       "            country iata  icao  latitude   longitude  altitude  timezone dst  \\\n",
       "0  Papua New Guinea  GKA  AYGA -6.081690  145.391998      5282      10.0   U   \n",
       "1  Papua New Guinea  MAG  AYMD -5.207080  145.789001        20      10.0   U   \n",
       "2  Papua New Guinea  HGU  AYMH -5.826790  144.296005      5388      10.0   U   \n",
       "3  Papua New Guinea  LAE  AYNZ -6.569803  146.725977       239      10.0   U   \n",
       "4  Papua New Guinea  POM  AYPY -9.443380  147.220001       146      10.0   U   \n",
       "\n",
       "                     tz     type       source  \n",
       "0  Pacific/Port_Moresby  airport  OurAirports  \n",
       "1  Pacific/Port_Moresby  airport  OurAirports  \n",
       "2  Pacific/Port_Moresby  airport  OurAirports  \n",
       "3  Pacific/Port_Moresby  airport  OurAirports  \n",
       "4  Pacific/Port_Moresby  airport  OurAirports  "
      ]
     },
     "execution_count": 8,
     "metadata": {},
     "output_type": "execute_result"
    }
   ],
   "source": [
    "# let's peek at what we have\n",
    "airports.head()"
   ]
  },
  {
   "cell_type": "code",
   "execution_count": 9,
   "metadata": {
    "collapsed": false
   },
   "outputs": [
    {
     "data": {
      "text/html": [
       "<div>\n",
       "<table border=\"1\" class=\"dataframe\">\n",
       "  <thead>\n",
       "    <tr style=\"text-align: right;\">\n",
       "      <th></th>\n",
       "      <th>id</th>\n",
       "      <th>name</th>\n",
       "      <th>alias</th>\n",
       "      <th>iata</th>\n",
       "      <th>icao</th>\n",
       "      <th>callsign</th>\n",
       "      <th>country</th>\n",
       "      <th>active</th>\n",
       "    </tr>\n",
       "  </thead>\n",
       "  <tbody>\n",
       "    <tr>\n",
       "      <th>0</th>\n",
       "      <td>-1</td>\n",
       "      <td>Unknown</td>\n",
       "      <td>NaN</td>\n",
       "      <td>-</td>\n",
       "      <td>NaN</td>\n",
       "      <td>NaN</td>\n",
       "      <td>NaN</td>\n",
       "      <td>Y</td>\n",
       "    </tr>\n",
       "    <tr>\n",
       "      <th>1</th>\n",
       "      <td>1</td>\n",
       "      <td>Private flight</td>\n",
       "      <td>NaN</td>\n",
       "      <td>-</td>\n",
       "      <td>NaN</td>\n",
       "      <td>NaN</td>\n",
       "      <td>NaN</td>\n",
       "      <td>Y</td>\n",
       "    </tr>\n",
       "    <tr>\n",
       "      <th>2</th>\n",
       "      <td>2</td>\n",
       "      <td>135 Airways</td>\n",
       "      <td>NaN</td>\n",
       "      <td>NaN</td>\n",
       "      <td>GNL</td>\n",
       "      <td>GENERAL</td>\n",
       "      <td>United States</td>\n",
       "      <td>N</td>\n",
       "    </tr>\n",
       "    <tr>\n",
       "      <th>3</th>\n",
       "      <td>3</td>\n",
       "      <td>1Time Airline</td>\n",
       "      <td>NaN</td>\n",
       "      <td>1T</td>\n",
       "      <td>RNX</td>\n",
       "      <td>NEXTIME</td>\n",
       "      <td>South Africa</td>\n",
       "      <td>Y</td>\n",
       "    </tr>\n",
       "    <tr>\n",
       "      <th>4</th>\n",
       "      <td>4</td>\n",
       "      <td>2 Sqn No 1 Elementary Flying Training School</td>\n",
       "      <td>NaN</td>\n",
       "      <td>NaN</td>\n",
       "      <td>WYT</td>\n",
       "      <td>NaN</td>\n",
       "      <td>United Kingdom</td>\n",
       "      <td>N</td>\n",
       "    </tr>\n",
       "  </tbody>\n",
       "</table>\n",
       "</div>"
      ],
      "text/plain": [
       "   id                                          name alias iata icao callsign  \\\n",
       "0  -1                                       Unknown   NaN    -  NaN      NaN   \n",
       "1   1                                Private flight   NaN    -  NaN      NaN   \n",
       "2   2                                   135 Airways   NaN  NaN  GNL  GENERAL   \n",
       "3   3                                 1Time Airline   NaN   1T  RNX  NEXTIME   \n",
       "4   4  2 Sqn No 1 Elementary Flying Training School   NaN  NaN  WYT      NaN   \n",
       "\n",
       "          country active  \n",
       "0             NaN      Y  \n",
       "1             NaN      Y  \n",
       "2   United States      N  \n",
       "3    South Africa      Y  \n",
       "4  United Kingdom      N  "
      ]
     },
     "execution_count": 9,
     "metadata": {},
     "output_type": "execute_result"
    }
   ],
   "source": [
    "airlines.head()"
   ]
  },
  {
   "cell_type": "code",
   "execution_count": null,
   "metadata": {
    "collapsed": false
   },
   "outputs": [
    {
     "data": {
      "text/html": [
       "<div>\n",
       "<table border=\"1\" class=\"dataframe\">\n",
       "  <thead>\n",
       "    <tr style=\"text-align: right;\">\n",
       "      <th></th>\n",
       "      <th>airline</th>\n",
       "      <th>airline_id</th>\n",
       "      <th>source</th>\n",
       "      <th>source_id</th>\n",
       "      <th>dest</th>\n",
       "      <th>dest_id</th>\n",
       "      <th>codeshare</th>\n",
       "      <th>stops</th>\n",
       "      <th>equipment</th>\n",
       "    </tr>\n",
       "  </thead>\n",
       "  <tbody>\n",
       "    <tr>\n",
       "      <th>0</th>\n",
       "      <td>2B</td>\n",
       "      <td>410.0</td>\n",
       "      <td>AER</td>\n",
       "      <td>2965.0</td>\n",
       "      <td>KZN</td>\n",
       "      <td>2990.0</td>\n",
       "      <td>NaN</td>\n",
       "      <td>0</td>\n",
       "      <td>CR2</td>\n",
       "    </tr>\n",
       "    <tr>\n",
       "      <th>1</th>\n",
       "      <td>2B</td>\n",
       "      <td>410.0</td>\n",
       "      <td>ASF</td>\n",
       "      <td>2966.0</td>\n",
       "      <td>KZN</td>\n",
       "      <td>2990.0</td>\n",
       "      <td>NaN</td>\n",
       "      <td>0</td>\n",
       "      <td>CR2</td>\n",
       "    </tr>\n",
       "    <tr>\n",
       "      <th>2</th>\n",
       "      <td>2B</td>\n",
       "      <td>410.0</td>\n",
       "      <td>ASF</td>\n",
       "      <td>2966.0</td>\n",
       "      <td>MRV</td>\n",
       "      <td>2962.0</td>\n",
       "      <td>NaN</td>\n",
       "      <td>0</td>\n",
       "      <td>CR2</td>\n",
       "    </tr>\n",
       "    <tr>\n",
       "      <th>3</th>\n",
       "      <td>2B</td>\n",
       "      <td>410.0</td>\n",
       "      <td>CEK</td>\n",
       "      <td>2968.0</td>\n",
       "      <td>KZN</td>\n",
       "      <td>2990.0</td>\n",
       "      <td>NaN</td>\n",
       "      <td>0</td>\n",
       "      <td>CR2</td>\n",
       "    </tr>\n",
       "    <tr>\n",
       "      <th>4</th>\n",
       "      <td>2B</td>\n",
       "      <td>410.0</td>\n",
       "      <td>CEK</td>\n",
       "      <td>2968.0</td>\n",
       "      <td>OVB</td>\n",
       "      <td>4078.0</td>\n",
       "      <td>NaN</td>\n",
       "      <td>0</td>\n",
       "      <td>CR2</td>\n",
       "    </tr>\n",
       "  </tbody>\n",
       "</table>\n",
       "</div>"
      ],
      "text/plain": [
       "  airline  airline_id source  source_id dest  dest_id codeshare  stops  \\\n",
       "0      2B       410.0    AER     2965.0  KZN   2990.0       NaN      0   \n",
       "1      2B       410.0    ASF     2966.0  KZN   2990.0       NaN      0   \n",
       "2      2B       410.0    ASF     2966.0  MRV   2962.0       NaN      0   \n",
       "3      2B       410.0    CEK     2968.0  KZN   2990.0       NaN      0   \n",
       "4      2B       410.0    CEK     2968.0  OVB   4078.0       NaN      0   \n",
       "\n",
       "  equipment  \n",
       "0       CR2  \n",
       "1       CR2  \n",
       "2       CR2  \n",
       "3       CR2  \n",
       "4       CR2  "
      ]
     },
     "execution_count": 10,
     "metadata": {},
     "output_type": "execute_result"
    }
   ],
   "source": [
    "routes.head()"
   ]
  },
  {
   "cell_type": "markdown",
   "metadata": {},
   "source": [
    "Make a worldwide map with the airports on it."
   ]
  },
  {
   "cell_type": "code",
   "execution_count": null,
   "metadata": {
    "collapsed": false
   },
   "outputs": [],
   "source": [
    "# Get a basic world map.\n",
    "# 30 centers the map E-W, and 0 is the equator\n",
    "airports_map = folium.Map(location=[30, 0], zoom_start=2)\n",
    "\n",
    "# Loop through the airports, and draw each one as a marker on the map\n",
    "# popup tells it what to display when you click on it\n",
    "for name, row in airports.iterrows():\n",
    "    \n",
    "    # For some reason, this one airport causes issues with the map.\n",
    "    if row[\"name\"] != \"South Pole Station\":\n",
    "        marker = folium.Marker([row[\"latitude\"], row[\"longitude\"]], popup=row['name'])\n",
    "        marker.add_to(airports_map)\n",
    "        \n",
    "# Save it to a file (it's kinda big for the notebook)\n",
    "airports_map.save('airports.html')"
   ]
  },
  {
   "cell_type": "markdown",
   "metadata": {},
   "source": [
    "Hmm...it looks like there are airports everywhere!  Let's try again with smaller makers. \n",
    "\n",
    "We can also specify the color.  A list of custom colors is available here: \n",
    "\n",
    "http://www.w3schools.com/cssref/css_colors.asp"
   ]
  },
  {
   "cell_type": "code",
   "execution_count": null,
   "metadata": {
    "collapsed": false
   },
   "outputs": [],
   "source": [
    "# over-write the airports_map, rather than just adding more markers to it. \n",
    "airports_map = folium.Map(location=[30, 0], zoom_start=2)\n",
    "\n",
    "# use circle markers this time, with custom size and color\n",
    "for name, row in airports.iterrows():\n",
    "        \n",
    "    # For some reason, this one airport causes issues with the map.\n",
    "    if row[\"name\"] != \"South Pole Station\":\n",
    "        marker = folium.CircleMarker([row[\"latitude\"], row[\"longitude\"]], \n",
    "                                     radius=5,\n",
    "                                     color='DarkCyan',\n",
    "                                     fill_color='DarkCyan', \n",
    "                                     popup=row['name'])\n",
    "        marker.add_to(airports_map)\n",
    "        \n",
    "airports_map.save('airports.html')"
   ]
  },
  {
   "cell_type": "markdown",
   "metadata": {},
   "source": [
    "You can also select icons to use as markers.  That code would look like: \n",
    "\n",
    "    marker = folium.Marker([row[\"latitude\"], row[\"longitude\"]], \n",
    "                           icon=folium.Icon(icon='cloud'), \n",
    "                           popup=row['name'])\n",
    "                           \n",
    "The list of icons comes from something called bootstrap, and can be found here: \n",
    "\n",
    "http://www.bootstrapicons.com/\n"
   ]
  },
  {
   "cell_type": "markdown",
   "metadata": {
    "collapsed": true
   },
   "source": [
    "Or you can use clusters of markers to clean up the map.  This will group them when you zoom out, similar to a Craigslist map.  You can see how to do that here: \n",
    "\n",
    "https://ocefpaf.github.io/python4oceanographers/blog/2015/12/14/geopandas_folium/\n",
    "\n",
    "You can clean up the rest of this airports map as part of your homework this week.  "
   ]
  },
  {
   "cell_type": "markdown",
   "metadata": {},
   "source": [
    "Let's draw the routes, but since we have lots, let's just start with the routes departing Lexington. "
   ]
  },
  {
   "cell_type": "code",
   "execution_count": null,
   "metadata": {
    "collapsed": false
   },
   "outputs": [],
   "source": [
    "# Select the LEX routes, then join the source airports\n",
    "lex_routes = routes[(routes['source']==\"LEX\")]\n",
    "lex_routes = pd.merge(lex_routes, airports, left_on='source_id', right_on='id', how='left')"
   ]
  },
  {
   "cell_type": "code",
   "execution_count": null,
   "metadata": {
    "collapsed": true
   },
   "outputs": [],
   "source": [
    "# join the destination airports.  Here we need to use the suffixes option, because \n",
    "# the column names overlap, and we want to distinguish between source and dest\n",
    "lex_routes = pd.merge(lex_routes, airports, \n",
    "                      left_on='dest_id', \n",
    "                      right_on='id', \n",
    "                      how='left', \n",
    "                      suffixes=['_source','_dest'])"
   ]
  },
  {
   "cell_type": "code",
   "execution_count": null,
   "metadata": {
    "collapsed": false
   },
   "outputs": [],
   "source": [
    "# here is what our data looks like\n",
    "lex_routes"
   ]
  },
  {
   "cell_type": "code",
   "execution_count": null,
   "metadata": {
    "collapsed": false
   },
   "outputs": [],
   "source": [
    "# It looks like source has some duplicate names.  Drop the values from the airports\n",
    "# file ane keep the one from the routes file\n",
    "lex_routes = lex_routes.drop(['source_y','source'], axis=1)\n",
    "lex_routes = lex_routes.rename(columns={'source_x': 'source'})"
   ]
  },
  {
   "cell_type": "code",
   "execution_count": null,
   "metadata": {
    "collapsed": false
   },
   "outputs": [],
   "source": [
    "# Let's keep only one route between each airport pair\n",
    "# so we don't have a bunch of lines on top of each other\n",
    "# The subset option tells it to consider just those columns when determining\n",
    "# what is a duplicate. \n",
    "\n",
    "lex_routes = lex_routes.drop_duplicates(subset=['source', 'dest'])\n",
    "lex_routes"
   ]
  },
  {
   "cell_type": "markdown",
   "metadata": {},
   "source": [
    "That looks better.  Now, let's create a map.  To avoid adding duplicate airports, we are going to use a container called a set.  A set is an unordered collection of unique elements.  This means we can keep adding LEX to the set, and end up with only 1 LEX in the end.  "
   ]
  },
  {
   "cell_type": "code",
   "execution_count": null,
   "metadata": {
    "collapsed": true
   },
   "outputs": [],
   "source": [
    "# create a basic map, centered on Lexington\n",
    "lex_air = folium.Map(\n",
    "    location=[38.034,-84.500],\n",
    "    tiles='Stamen Toner',\n",
    "    zoom_start=4\n",
    ")"
   ]
  },
  {
   "cell_type": "code",
   "execution_count": null,
   "metadata": {
    "collapsed": false
   },
   "outputs": [],
   "source": [
    "# Define some empty sets\n",
    "airport_set = set()\n",
    "route_set = set()\n",
    "\n",
    "# Make sure we don't add duplicates, especially for the origins\n",
    "for name, row in lex_routes.iterrows():\n",
    "    \n",
    "    if row['source'] not in airport_set: \n",
    "        popup_string = row['city_source'] + ' (' + row['source'] + ')'\n",
    "        marker = folium.CircleMarker([row[\"latitude_source\"], row[\"longitude_source\"]], \n",
    "                                     color='DarkCyan',\n",
    "                                     fill_color='DarkCyan', \n",
    "                                     radius=5, popup=popup_string)\n",
    "        marker.add_to(lex_air)\n",
    "        airport_set.add(row['source'])\n",
    "        \n",
    "    if row['dest'] not in airport_set: \n",
    "        popup_string = row['city_dest'] + '(' + row['dest'] + ')'\n",
    "        marker = folium.CircleMarker([row[\"latitude_dest\"], row[\"longitude_dest\"]], \n",
    "                                     color='MidnightBlue',\n",
    "                                     fill_color='MidnightBlue', \n",
    "                                     radius=5, popup=popup_string)\n",
    "        marker.add_to(lex_air)\n",
    "        airport_set.add(row['dest'])\n",
    "    \n",
    "    # the parentheses in the indicate that we are adding a tuple to the route_set\n",
    "    if (row['source'],row['dest']) not in route_set:            \n",
    "        popup_string = row['source'] + '-' + row['dest']        \n",
    "        line = folium.PolyLine([(row[\"latitude_source\"], row[\"longitude_source\"]), \n",
    "                                (row[\"latitude_dest\"], row[\"longitude_dest\"])], \n",
    "                                weight=2, \n",
    "                                popup=popup_string)\n",
    "        line.add_to(lex_air)\n",
    "        route_set.add((row['source'],row['dest']))\n",
    "        \n",
    "lex_air"
   ]
  },
  {
   "cell_type": "markdown",
   "metadata": {},
   "source": [
    "That's cool.  But airplanes don't fly in a straight line.  They follow the great circle.  So when you fly from Chicago to London, you go over Greenland (which is really pretty on a clear day!).  Can we make the lines follow a great circle? \n",
    "\n",
    "It looks like there are some options here: \n",
    "\n",
    "http://gis.stackexchange.com/questions/47/what-tools-in-python-are-available-for-doing-great-circle-distance-line-creati\n",
    "\n",
    "Let's try one of them. "
   ]
  },
  {
   "cell_type": "code",
   "execution_count": null,
   "metadata": {
    "collapsed": false
   },
   "outputs": [],
   "source": [
    "import pyproj\n",
    "\n",
    "# when creating a function, it is good practice to define the API!\n",
    "def getGreatCirclePoints(startlat, startlon, endlat, endlon): \n",
    "    \"\"\"\n",
    "    startlat - starting latitude \n",
    "    startlon - starting longitude \n",
    "    endlat   - ending latitude \n",
    "    endlon   - ending longitude \n",
    "    \n",
    "    returns - a list of tuples, where each tuple is the lat-long for a point\n",
    "              along the curve.  \n",
    "    \"\"\"\n",
    "    # calculate distance between points\n",
    "    g = pyproj.Geod(ellps='WGS84')\n",
    "    (az12, az21, dist) = g.inv(startlon, startlat, endlon, endlat)\n",
    "\n",
    "    # calculate line string along path with segments <= 20 km\n",
    "    lonlats = g.npts(startlon, startlat, endlon, endlat,\n",
    "                     1 + int(dist / 20000))\n",
    "\n",
    "    # the npts function uses lon-lat, while the folium functions use lat-lon\n",
    "    # This sort of thing is maddening!  What happens is the lines don't show\n",
    "    # up on the map and you don't know why.  Learn from my mistakes\n",
    "    latlons = []\n",
    "    for lon_lat in lonlats: \n",
    "        \n",
    "        # this is how you get values out of a tuple\n",
    "        (lon, lat) = lon_lat\n",
    "        \n",
    "        # add them to our list\n",
    "        latlons.append((lat, lon)) \n",
    "    \n",
    "    # npts doesn't include start/end points, so prepend/append them\n",
    "    latlons.insert(0, (startlat, startlon))\n",
    "    latlons.append((endlat, endlon))\n",
    "    \n",
    "    return latlons\n"
   ]
  },
  {
   "cell_type": "code",
   "execution_count": null,
   "metadata": {
    "collapsed": false
   },
   "outputs": [],
   "source": [
    "# any time we write a function, we should test that it works\n",
    "p = getGreatCirclePoints(38.034, -84.500, 33.636700, -84.428101) \n",
    "p"
   ]
  },
  {
   "cell_type": "code",
   "execution_count": null,
   "metadata": {
    "collapsed": false
   },
   "outputs": [],
   "source": [
    "# create a basic map, centered on Lexington\n",
    "lex_air = folium.Map(\n",
    "    location=[38.034,-84.500],\n",
    "    tiles='Stamen Toner',\n",
    "    zoom_start=4\n",
    ")"
   ]
  },
  {
   "cell_type": "code",
   "execution_count": null,
   "metadata": {
    "collapsed": false
   },
   "outputs": [],
   "source": [
    "# define the map in the same way, but use great circles for the lines\n",
    "\n",
    "# Define some empty sets\n",
    "airport_set = set()\n",
    "route_set = set()\n",
    "\n",
    "# Make sure we don't add duplicates, especially for the origins\n",
    "for name, row in lex_routes.iterrows():\n",
    "    \n",
    "    if row['source'] not in airport_set: \n",
    "        popup_string = row['city_source'] + ' (' + row['source'] + ')'\n",
    "        marker = folium.CircleMarker([row[\"latitude_source\"], row[\"longitude_source\"]], \n",
    "                                     color='DarkCyan',\n",
    "                                     fill_color='DarkCyan', \n",
    "                                     radius=5, popup=popup_string)\n",
    "        marker.add_to(lex_air)\n",
    "        airport_set.add(row['source'])\n",
    "        \n",
    "    if row['dest'] not in airport_set: \n",
    "        popup_string = row['city_dest'] + '(' + row['dest'] + ')'\n",
    "        marker = folium.CircleMarker([row[\"latitude_dest\"], row[\"longitude_dest\"]], \n",
    "                                     color='MidnightBlue',\n",
    "                                     fill_color='MidnightBlue', \n",
    "                                     radius=5, popup=popup_string)\n",
    "        marker.add_to(lex_air)\n",
    "        airport_set.add(row['dest'])\n",
    "    \n",
    "    # PolyLine will accept a whole list of tuples, not just two\n",
    "    if (row['source'],row['dest']) not in route_set:            \n",
    "        popup_string = row['source'] + '-' + row['dest']       \n",
    "        \n",
    "        gc_points = getGreatCirclePoints(row[\"latitude_source\"], \n",
    "                                         row[\"longitude_source\"], \n",
    "                                         row[\"latitude_dest\"], \n",
    "                                         row[\"longitude_dest\"])\n",
    "        \n",
    "        line = folium.PolyLine(gc_points, weight=2, popup=popup_string)\n",
    "        line.add_to(lex_air)\n",
    "        route_set.add((row['source'],row['dest']))\n",
    "        \n",
    "lex_air   "
   ]
  },
  {
   "cell_type": "code",
   "execution_count": null,
   "metadata": {
    "collapsed": true
   },
   "outputs": [],
   "source": [
    "# save it to its own file\n",
    "lex_air.save(\"lex_air.html\")"
   ]
  },
  {
   "cell_type": "markdown",
   "metadata": {},
   "source": [
    "### Your turn\n",
    "\n",
    "The above map shows everywhere you can get to from Lexington on a direct flight.  Your job is to:\n",
    "\n",
    "1. Make a map of all the possible destinations with one transfer. \n",
    "2. Make a map of all the possible desitnations with two transfers. \n",
    "\n",
    "Make the maps look nice!  Use color coding, vary the size of the features, or be selective about what you display in order to communicate the information effectively.  \n",
    "\n",
    "Bonus: This is the air travel version of the Kevin Bacon game.  What is the number N, such that you can reach every airport in the world with N or fewer transfers?  \n",
    "\n",
    "Extra Bonus: Use this very important piece of knowledge to impress your friends at parties!"
   ]
  },
  {
   "cell_type": "code",
   "execution_count": null,
   "metadata": {
    "collapsed": true
   },
   "outputs": [],
   "source": [
    "lex_routes"
   ]
  },
  {
   "cell_type": "code",
   "execution_count": null,
   "metadata": {
    "collapsed": true
   },
   "outputs": [],
   "source": [
    "lex_routes_drop = lex_routes.dest.drop_duplicates()\n",
    "list_transfer = list(lex_routes_drop[:-1])\n",
    "list_transfer"
   ]
  },
  {
   "cell_type": "code",
   "execution_count": null,
   "metadata": {
    "collapsed": true
   },
   "outputs": [],
   "source": [
    "print(lex_routes.dest.unique())\n",
    "print(len(lex_routes.dest.unique()))"
   ]
  },
  {
   "cell_type": "code",
   "execution_count": null,
   "metadata": {
    "collapsed": true
   },
   "outputs": [],
   "source": [
    "print(len(lex))\n",
    "print(lex)"
   ]
  },
  {
   "cell_type": "code",
   "execution_count": null,
   "metadata": {
    "collapsed": true
   },
   "outputs": [],
   "source": [
    "lex_1 = routes.loc[routes['source'].isin(lex)]\n",
    "lex_1 = set(lex_1.dest)\n",
    "\n",
    "lex1 = lex.union(lex_1)\n",
    "\n",
    "len(lex1)"
   ]
  },
  {
   "cell_type": "code",
   "execution_count": null,
   "metadata": {
    "collapsed": true
   },
   "outputs": [],
   "source": [
    "lex_2 = routes.loc[routes['source'].isin(lex1)]\n",
    "lex_2 = set(lex_2.dest)\n",
    "\n",
    "lex2 = lex.union(lex_2)\n",
    "print(len(lex2))\n",
    "print(len(airports))"
   ]
  },
  {
   "cell_type": "code",
   "execution_count": null,
   "metadata": {
    "collapsed": true
   },
   "outputs": [],
   "source": [
    "lex_3 = routes.loc[routes['source'].isin(lex2)]\n",
    "lex_3 = set(lex_3.dest)\n",
    "\n",
    "lex3 = lex.union(lex_3)\n",
    "print(len(lex3))\n",
    "print(len(airports))"
   ]
  },
  {
   "cell_type": "code",
   "execution_count": null,
   "metadata": {
    "collapsed": true
   },
   "outputs": [],
   "source": [
    "lex_4 = routes.loc[routes['source'].isin(lex3)]\n",
    "lex_4 = set(lex_4.dest)\n",
    "\n",
    "lex4 = lex.union(lex_4)\n",
    "print(len(lex4))\n",
    "print(len(airports))"
   ]
  },
  {
   "cell_type": "code",
   "execution_count": null,
   "metadata": {
    "collapsed": true
   },
   "outputs": [],
   "source": [
    "k = 1\n",
    "\n",
    "\n",
    "lexi = set(lex_routes.dest)\n",
    "\n",
    "while len(lexi) != len(airports) and k != 10:\n",
    "    lex_k = routes.loc[routes['source'].isin(lexk)]\n",
    "    lex_k = set(lex_k.dest)\n",
    "    lexk = lexi.union(lex_k)\n",
    "    print('transfer',k,'# of airports covered = ',len(lexk))\n",
    "    print('# of airports = ',len(airports))\n",
    "    k = k + 1\n",
    "else:\n",
    "    end"
   ]
  },
  {
   "cell_type": "code",
   "execution_count": null,
   "metadata": {
    "collapsed": true
   },
   "outputs": [],
   "source": [
    "routes.columns"
   ]
  },
  {
   "cell_type": "code",
   "execution_count": null,
   "metadata": {
    "collapsed": true
   },
   "outputs": [],
   "source": [
    "lex_routes.columns"
   ]
  },
  {
   "cell_type": "code",
   "execution_count": null,
   "metadata": {
    "collapsed": true
   },
   "outputs": [],
   "source": [
    "list_set = set(lex_routes.dest)\n",
    "print(len(list_set))\n",
    "print(list_set)\n",
    "routes.select?"
   ]
  },
  {
   "cell_type": "code",
   "execution_count": null,
   "metadata": {
    "collapsed": true
   },
   "outputs": [],
   "source": [
    "lex1_set = routes.loc[routes['source'].isin(list_set)]\n",
    "alt_routes = lex1_set[(lex1_set['source']==\"ATL\")]\n",
    "print(len(alt_routes))\n",
    "len(lex1_set.source == 'ATL')"
   ]
  },
  {
   "cell_type": "code",
   "execution_count": null,
   "metadata": {
    "collapsed": true
   },
   "outputs": [],
   "source": [
    "lex1_set = routes.loc[routes['source'].isin(list_set)]\n",
    "\n",
    "lex1_set = lex1_set.drop_duplicates(subset = 'dest')\n",
    "lex1_set['one_transfer'] = 'Y'\n",
    "\n",
    "#df = pd.merge(airports,lex1_set,left_on = 'id',right_on = 'dest_id', how = 'right' ,sort = True)\n",
    "df = pd.merge(lex1_set, airports, \n",
    "                      left_on='dest_id', \n",
    "                      right_on='id', \n",
    "                      how='left', \n",
    "                      suffixes=['_source','_dest'])\n",
    "df.columns"
   ]
  },
  {
   "cell_type": "code",
   "execution_count": null,
   "metadata": {
    "collapsed": true
   },
   "outputs": [],
   "source": [
    "df.head()"
   ]
  },
  {
   "cell_type": "code",
   "execution_count": null,
   "metadata": {
    "collapsed": true
   },
   "outputs": [],
   "source": [
    "airport_set = set()\n",
    "route_set = set()\n",
    "\n",
    "for name, row in df.iterrows():\n",
    "    \n",
    "    if row['source'] not in airport_set: \n",
    "        popup_string = row['source_source'] + ' (' + row['source'] + ')'\n",
    "        marker = folium.CircleMarker([row[\"latitude\"], row[\"longitude\"]], \n",
    "                                     color='DarkCyan',\n",
    "                                     fill_color='DarkCyan', \n",
    "                                     radius=5, popup=popup_string)\n",
    "        marker.add_to(lex_air)\n",
    "        airport_set.add(row['source'])\n",
    "        \n",
    "    if (row['source'],row['dest']) not in route_set:            \n",
    "        popup_string = row['source'] + '-' + row['dest']       \n",
    "        \n",
    "        gc_points = getGreatCirclePoints(row[\"latitude_source\"], \n",
    "                                         row[\"longitude_source\"], \n",
    "                                         row[\"latitude_dest\"], \n",
    "                                         row[\"longitude_dest\"])\n",
    "        \n",
    "        line = folium.PolyLine(gc_points, weight=2, popup=popup_string)\n",
    "        line.add_to(lex_air)\n",
    "        route_set.add((row['source'],row['dest']))\n",
    "        \n",
    "lex_air"
   ]
  },
  {
   "cell_type": "code",
   "execution_count": null,
   "metadata": {
    "collapsed": true
   },
   "outputs": [],
   "source": [
    "list_transfer2 = set(lex_transfer.dest)\n",
    "len(list_transfer2)"
   ]
  },
  {
   "cell_type": "code",
   "execution_count": null,
   "metadata": {
    "collapsed": true
   },
   "outputs": [],
   "source": [
    "lex_transfer2 = set(routes.loc[routes['source'].isin(list_transfer2)])\n",
    "lex_transfer2.head()\n",
    "lex_transfer2['one_transfer'] = 'Y'\n",
    "lex_transfer2['two_transfer'] = 'Y'\n",
    "lex_transfer2.head()"
   ]
  },
  {
   "cell_type": "code",
   "execution_count": null,
   "metadata": {
    "collapsed": true
   },
   "outputs": [],
   "source": [
    "lex_transfer2drop = lex_transfer2.drop_duplicates(subset = 'dest')\n",
    "print(len(lex_transfer2drop.dest))\n",
    "print(len(airports))\n",
    "list_transfer3 = list(lex_transfer2drop.dest)\n",
    "print(len(list_transfer3))"
   ]
  },
  {
   "cell_type": "code",
   "execution_count": null,
   "metadata": {
    "collapsed": true
   },
   "outputs": [],
   "source": [
    "lex_transfer3 = routes.loc[routes['source'].isin(list_transfer3)]\n",
    "lex_transfer3.head()\n",
    "lex_transfer3['one_transfer'] = 'Y'\n",
    "lex_transfer3['two_transfer'] = 'Y'\n",
    "lex_transfer3['three_transfer'] = 'Y'\n",
    "lex_transfer3.head()"
   ]
  },
  {
   "cell_type": "code",
   "execution_count": null,
   "metadata": {
    "collapsed": true
   },
   "outputs": [],
   "source": [
    "lex_transfer3drop = lex_transfer3.drop_duplicates(subset = 'dest')\n",
    "print(len(lex_transfer3drop.dest))\n",
    "print(len(airports))\n",
    "list_transfer4 = list(lex_transfer3drop.dest)\n",
    "print(len(list_transfer4))"
   ]
  },
  {
   "cell_type": "code",
   "execution_count": null,
   "metadata": {
    "collapsed": true
   },
   "outputs": [],
   "source": [
    "lex_transfer4 = routes.loc[routes['source'].isin(list_transfer4)]\n",
    "lex_transfer4.head()\n",
    "lex_transfer4['one_transfer'] = 'Y'\n",
    "lex_transfer4['two_transfer'] = 'Y'\n",
    "lex_transfer4['three_transfer'] = 'Y'\n",
    "lex_transfer4.head()"
   ]
  },
  {
   "cell_type": "code",
   "execution_count": null,
   "metadata": {
    "collapsed": true
   },
   "outputs": [],
   "source": [
    "lex_transfer4drop = lex_transfer4.drop_duplicates(subset = 'dest')\n",
    "print(len(lex_transfer4drop.dest))\n",
    "print(len(airports))\n",
    "list_transfer5 = list(lex_transfer4drop.dest)\n",
    "print(len(list_transfer5))"
   ]
  },
  {
   "cell_type": "code",
   "execution_count": null,
   "metadata": {
    "collapsed": true
   },
   "outputs": [],
   "source": [
    "lex_transfer5 = routes.loc[routes['source'].isin(list_transfer5)]\n",
    "lex_transfer5.head()\n",
    "lex_transfer5['one_transfer'] = 'Y'\n",
    "lex_transfer5['two_transfer'] = 'Y'\n",
    "lex_transfer5['three_transfer'] = 'Y'\n",
    "lex_transfer5.head()"
   ]
  },
  {
   "cell_type": "code",
   "execution_count": null,
   "metadata": {
    "collapsed": true
   },
   "outputs": [],
   "source": [
    "lex_transfer4drop = lex_transfer4.drop_duplicates(subset = 'dest')\n",
    "print(len(lex_transfer4drop.dest))\n",
    "print(len(airports))\n",
    "list_transfer5 = list(lex_transfer4drop.dest)\n",
    "print(len(list_transfer5))\n"
   ]
  },
  {
   "cell_type": "code",
   "execution_count": null,
   "metadata": {
    "collapsed": true
   },
   "outputs": [],
   "source": [
    "lex_transfer6 = routes.loc[routes['source'].isin(list_transfer6)]\n",
    "lex_transfer6.head()\n",
    "lex_transfer6['one_transfer'] = 'Y'\n",
    "lex_transfer6['two_transfer'] = 'Y'\n",
    "lex_transfer6['three_transfer'] = 'Y'\n",
    "lex_transfer6.head()"
   ]
  },
  {
   "cell_type": "code",
   "execution_count": null,
   "metadata": {
    "collapsed": true
   },
   "outputs": [],
   "source": [
    "lex_transfer6drop = lex_transfer6.drop_duplicates(subset = 'dest')\n",
    "print(len(lex_transfer6drop.dest))\n",
    "print(len(airports))\n",
    "list_transfer7 = list(lex_transfer6drop.dest)\n",
    "print(len(list_transfer7))"
   ]
  },
  {
   "cell_type": "code",
   "execution_count": null,
   "metadata": {
    "collapsed": true
   },
   "outputs": [],
   "source": [
    "lex_transfer7 = routes.loc[routes['source'].isin(list_transfer7)]\n",
    "lex_transfer7.head()\n",
    "lex_transfer7['one_transfer'] = 'Y'\n",
    "lex_transfer7['two_transfer'] = 'Y'\n",
    "lex_transfer7['three_transfer'] = 'Y'\n",
    "lex_transfer7.head()"
   ]
  },
  {
   "cell_type": "code",
   "execution_count": null,
   "metadata": {
    "collapsed": true
   },
   "outputs": [],
   "source": [
    "lex_transfer7drop = lex_transfer7.drop_duplicates(subset = 'dest')\n",
    "print(len(lex_transfer7drop.dest))\n",
    "print(len(airports))\n",
    "list_transfer8 = list(lex_transfer7drop.dest)\n",
    "print(len(list_transfer8))lex = set(lex_routes.dest)"
   ]
  },
  {
   "cell_type": "code",
   "execution_count": null,
   "metadata": {
    "collapsed": true
   },
   "outputs": [],
   "source": [
    "lex_transfer8 = routes.loc[routes['source'].isin(list_transfer8)]\n",
    "lex_transfer7.head()\n",
    "lex_transfer7['one_transfer'] = 'Y'\n",
    "lex_transfer7['two_transfer'] = 'Y'\n",
    "lex_transfer7['three_transfer'] = 'Y'\n",
    "lex_transfer8.head()"
   ]
  },
  {
   "cell_type": "code",
   "execution_count": null,
   "metadata": {
    "collapsed": true
   },
   "outputs": [],
   "source": [
    "lex_transfer8drop = lex_transfer8.drop_duplicates(subset = 'dest')\n",
    "print(len(lex_transfer8drop.dest))\n",
    "print(len(airports))\n",
    "list_transfer9 = list(lex_transfer8drop.dest)\n",
    "print(len(list_transfer9))"
   ]
  },
  {
   "cell_type": "code",
   "execution_count": null,
   "metadata": {
    "collapsed": true
   },
   "outputs": [],
   "source": [
    "routes1 = routes[routes['dest'] == 'LEX']\n",
    "s = list(routes1.source)\n",
    "len(routes1)\n",
    "len(s)"
   ]
  },
  {
   "cell_type": "code",
   "execution_count": null,
   "metadata": {
    "collapsed": true
   },
   "outputs": [],
   "source": [
    "routes1['1_transfer'] = 'Y'"
   ]
  },
  {
   "cell_type": "code",
   "execution_count": null,
   "metadata": {
    "collapsed": true
   },
   "outputs": [],
   "source": [
    "routes1['1_transfer'].unique()"
   ]
  },
  {
   "cell_type": "code",
   "execution_count": null,
   "metadata": {
    "collapsed": true
   },
   "outputs": [],
   "source": [
    "routes2 = df[df['1_transfer'] == 'Y']"
   ]
  },
  {
   "cell_type": "code",
   "execution_count": null,
   "metadata": {
    "collapsed": true
   },
   "outputs": [],
   "source": [
    "routes2"
   ]
  },
  {
   "cell_type": "code",
   "execution_count": null,
   "metadata": {
    "collapsed": true
   },
   "outputs": [],
   "source": [
    "df2 = pd.merge(routes2, airports, \n",
    "                      left_on='source_id', \n",
    "                      right_on='id', \n",
    "                      how='right', \n",
    "                      suffixes=['_source','_dest'])"
   ]
  },
  {
   "cell_type": "code",
   "execution_count": null,
   "metadata": {
    "collapsed": true
   },
   "outputs": [],
   "source": []
  },
  {
   "cell_type": "code",
   "execution_count": null,
   "metadata": {
    "collapsed": true
   },
   "outputs": [],
   "source": []
  },
  {
   "cell_type": "code",
   "execution_count": null,
   "metadata": {
    "collapsed": true
   },
   "outputs": [],
   "source": []
  }
 ],
 "metadata": {
  "anaconda-cloud": {},
  "kernelspec": {
   "display_name": "Python [conda root]",
   "language": "python",
   "name": "conda-root-py"
  },
  "language_info": {
   "codemirror_mode": {
    "name": "ipython",
    "version": 3
   },
   "file_extension": ".py",
   "mimetype": "text/x-python",
   "name": "python",
   "nbconvert_exporter": "python",
   "pygments_lexer": "ipython3",
   "version": "3.5.2"
  }
 },
 "nbformat": 4,
 "nbformat_minor": 1
}
